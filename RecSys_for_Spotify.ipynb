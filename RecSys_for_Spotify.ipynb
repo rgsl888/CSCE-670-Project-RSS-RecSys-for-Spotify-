{
 "cells": [
  {
   "cell_type": "markdown",
   "metadata": {},
   "source": [
    "# RecSys-Bidirectional RNN with Embeddings"
   ]
  },
  {
   "cell_type": "markdown",
   "metadata": {},
   "source": [
    "### Research problem:\n",
    "The goal of the challenge is to develop a system for the task of automatic playlist continuation. Given a\n",
    "set of playlist features, participants’ systems shall generate a list of recommended tracks that can be\n",
    "added to that playlist, thereby ‘continuing’ the playlist."
   ]
  },
  {
   "cell_type": "markdown",
   "metadata": {},
   "source": [
    "#### Note: \n",
    "1. For generating embeddings please refer to Embeddings keras.ipynb\n",
    "2. Extracting all playlists pertaining to particular keyword please use Workout playlist extraction.ipynb\n",
    "3. Helpers function to generate batches helpers.py\n",
    "4. Basic json used for sanity testing. mpd.slice.1000-1999_100_set.json\n",
    "5. Embeddings are not uploaded due to github size restrictions\n"
   ]
  },
  {
   "cell_type": "markdown",
   "metadata": {},
   "source": [
    "### Loading Libraries and Packages"
   ]
  },
  {
   "cell_type": "code",
   "execution_count": 3,
   "metadata": {},
   "outputs": [
    {
     "name": "stderr",
     "output_type": "stream",
     "text": [
      "/home/sachin/anaconda2/lib/python2.7/site-packages/h5py/__init__.py:34: FutureWarning: Conversion of the second argument of issubdtype from `float` to `np.floating` is deprecated. In future, it will be treated as `np.float64 == np.dtype(float).type`.\n",
      "  from ._conv import register_converters as _register_converters\n"
     ]
    }
   ],
   "source": [
    "# Dependencies\n",
    "import numpy as np\n",
    "import tensorflow as tf\n",
    "import helpers\n",
    "import sys\n",
    "import json\n",
    "import re\n",
    "import collections\n",
    "import os\n",
    "import datetime\n",
    "import glob\n",
    "import math as m\n",
    "\n",
    "# Importing LSTMs\n",
    "from tensorflow.contrib.rnn import LSTMCell, LSTMStateTuple"
   ]
  },
  {
   "cell_type": "code",
   "execution_count": 4,
   "metadata": {},
   "outputs": [
    {
     "data": {
      "text/plain": [
       "'1.4.1'"
      ]
     },
     "execution_count": 4,
     "metadata": {},
     "output_type": "execute_result"
    }
   ],
   "source": [
    "tf.reset_default_graph()\n",
    "sess = tf.InteractiveSession()\n",
    "tf.__version__"
   ]
  },
  {
   "cell_type": "markdown",
   "metadata": {},
   "source": [
    "### Defining MACROS and Environment Variables"
   ]
  },
  {
   "cell_type": "code",
   "execution_count": 45,
   "metadata": {
    "collapsed": true
   },
   "outputs": [],
   "source": [
    "# Add your trained path file here.\n",
    "\n",
    "#fullpath = ['../train_set_untouched/data/mpd.slice.1000-1999.json']\n",
    "#fullpath = ['sleep_100.json']\n",
    "fullpath = ['sleep_1000.json']"
   ]
  },
  {
   "cell_type": "markdown",
   "metadata": {},
   "source": [
    "### This is the pre-processing of the Spotify dataset"
   ]
  },
  {
   "cell_type": "code",
   "execution_count": 46,
   "metadata": {},
   "outputs": [
    {
     "name": "stdout",
     "output_type": "stream",
     "text": [
      "done\n",
      "21374\n",
      "893\n",
      "1\n"
     ]
    }
   ],
   "source": [
    "# Input to seq to seq model\n",
    "X_train = []\n",
    "# 0 and 1 are reserved for EOS and PAD\n",
    "count = 2\n",
    "play_list_names = []\n",
    "\n",
    "# Dictionary to maintain the song index and track name, other features can be added later\n",
    "track_dict = {}\n",
    "\n",
    "# Dicionray to maintain count to uri mapping\n",
    "uri_dict = {}\n",
    "  \n",
    "for item in fullpath:\n",
    "    #print item\n",
    "    f = open(item)\n",
    "    file_content = f.read()\n",
    "    f.close()\n",
    "    mpd_slice = json.loads(file_content)\n",
    "\n",
    "\n",
    "    # Playlist name list\n",
    "    play_list_names += [re.sub('[^a-zA-Z0-9]+', '', mpd_slice['playlists'][idx]['name'].lower()) for idx in range(0, len(mpd_slice['playlists']))]\n",
    "    #print play_list_names\n",
    "    #print item, len(play_list_names), count\n",
    "\n",
    "count += len(set(play_list_names))\n",
    "#print count \n",
    "    \n",
    "for item in fullpath:\n",
    "    #print item\n",
    "    f = open(item)\n",
    "    file_content = f.read()\n",
    "    f.close()\n",
    "    mpd_slice = json.loads(file_content)\n",
    "\n",
    "\n",
    "    # Looping to create the X_train\n",
    "    for idx in range(0, len(mpd_slice['playlists'])):\n",
    "        lst_current = [] \n",
    "\n",
    "        lst_current.append(play_list_names.index(re.sub('[^a-zA-Z0-9]+', '', mpd_slice['playlists'][idx]['name'].lower())) + 2)    \n",
    "\n",
    "        for idy in range(0, len(mpd_slice['playlists'][idx]['tracks'])):\n",
    "            track_uri = re.sub('spotify:track:', '', mpd_slice['playlists'][idx]['tracks'][idy]['track_uri'])\n",
    "            if(track_uri not in track_dict):\n",
    "                track_dict[track_uri] = count\n",
    "                uri_dict[count] = [track_uri, mpd_slice['playlists'][idx]['tracks'][idy]['track_name']]\n",
    "                count += 1\n",
    "            lst_current.append(track_dict[track_uri])\n",
    "            #print lst_current\n",
    "            #print X_train, \"sac\"\n",
    "        X_train.append(lst_current)\n",
    "        #print \"done\", idx\n",
    "    print \"done\"\n",
    "\n",
    "    #print X_train\n",
    "    \n",
    "\n",
    "#print (X_train)\n",
    "print (count)\n",
    "print (len(play_list_names))\n",
    "print (len(set(play_list_names)))"
   ]
  },
  {
   "cell_type": "markdown",
   "metadata": {},
   "source": [
    "### Printing some basic stats"
   ]
  },
  {
   "cell_type": "code",
   "execution_count": 47,
   "metadata": {},
   "outputs": [],
   "source": [
    "X_train_orig = X_train\n",
    "#print (X_train[0:10])"
   ]
  },
  {
   "cell_type": "code",
   "execution_count": 48,
   "metadata": {},
   "outputs": [
    {
     "name": "stdout",
     "output_type": "stream",
     "text": [
      "Train split is: 714 and Test split is: 179\n"
     ]
    }
   ],
   "source": [
    "train_test_split = 0.8\n",
    "X_train, X_test = X_train_orig[0:int(m.floor(train_test_split*len(X_train_orig)))],  X_train_orig[int(m.floor(train_test_split*len(X_train_orig))):len(X_train_orig)]\n",
    "print \"Train split is:\", len(X_train), \"and Test split is:\", len(X_test)"
   ]
  },
  {
   "cell_type": "markdown",
   "metadata": {},
   "source": [
    "### Defining the PAD, EOS, Vocab size and other hyperparameters"
   ]
  },
  {
   "cell_type": "code",
   "execution_count": 11,
   "metadata": {
    "collapsed": true
   },
   "outputs": [],
   "source": [
    "PAD = 0\n",
    "EOS = 1\n",
    "\n",
    "vocab_size = count\n",
    "input_embedding_size = 300\n",
    "\n",
    "encoder_hidden_units = 300\n",
    "decoder_hidden_units = encoder_hidden_units * 2"
   ]
  },
  {
   "cell_type": "markdown",
   "metadata": {},
   "source": [
    "### Defining some placeholders for tensorflow variables"
   ]
  },
  {
   "cell_type": "code",
   "execution_count": 12,
   "metadata": {
    "collapsed": true
   },
   "outputs": [],
   "source": [
    "encoder_inputs = tf.placeholder(shape=(None, None), dtype=tf.int32, name='encoder_inputs')\n",
    "encoder_inputs_length = tf.placeholder(shape=(None,), dtype=tf.int32, name='encoder_inputs_length')\n",
    "\n",
    "decoder_targets = tf.placeholder(shape=(None, None), dtype=tf.int32, name='decoder_targets')"
   ]
  },
  {
   "cell_type": "markdown",
   "metadata": {},
   "source": [
    "### Embeddings"
   ]
  },
  {
   "cell_type": "code",
   "execution_count": 16,
   "metadata": {
    "collapsed": true
   },
   "outputs": [],
   "source": [
    "# Modify this variable if you want to load the external embeddings\n",
    "external_load_embeddings = True"
   ]
  },
  {
   "cell_type": "code",
   "execution_count": 18,
   "metadata": {},
   "outputs": [
    {
     "name": "stdout",
     "output_type": "stream",
     "text": [
      "Training the embeddings\n"
     ]
    }
   ],
   "source": [
    "# Module to load external embeddings.\n",
    "\n",
    "if(external_load_embeddings == True):\n",
    "    print \"Loading the embeddings\"\n",
    "    embed_file = np.load('embedding_1000.npy')\n",
    "    print embed_file.shape\n",
    "    print vocab_size, input_embedding_size\n",
    "    init = tf.constant(embed_file, dtype=tf.float32)\n",
    "    embeddings = tf.get_variable('embeddings', trainable=False, initializer = init, dtype=tf.float32)\n",
    "else:\n",
    "    print \"Training the embeddings\"\n",
    "    embeddings = tf.Variable(tf.random_uniform([vocab_size, input_embedding_size], -1.0, 1.0), dtype=tf.float32)"
   ]
  },
  {
   "cell_type": "markdown",
   "metadata": {
    "collapsed": true
   },
   "source": [
    "### Lookup function to get embeddings as a continuous represemtation from one-hot inputs"
   ]
  },
  {
   "cell_type": "code",
   "execution_count": 21,
   "metadata": {
    "collapsed": true
   },
   "outputs": [],
   "source": [
    "encoder_inputs_embedded = tf.nn.embedding_lookup(embeddings, encoder_inputs)"
   ]
  },
  {
   "cell_type": "markdown",
   "metadata": {},
   "source": [
    "## Encoder"
   ]
  },
  {
   "cell_type": "markdown",
   "metadata": {},
   "source": [
    "We are using `tf.nn.bidirectional_dynamic_rnn` as the encoder for better understanding of the context"
   ]
  },
  {
   "cell_type": "code",
   "execution_count": 22,
   "metadata": {
    "collapsed": true
   },
   "outputs": [],
   "source": [
    "# Defining the encoder cell \n",
    "encoder_cell = LSTMCell(encoder_hidden_units)"
   ]
  },
  {
   "cell_type": "code",
   "execution_count": 23,
   "metadata": {
    "collapsed": true
   },
   "outputs": [],
   "source": [
    "# Defining the Bi-directional RNN with inputs and outputs merged\n",
    "\n",
    "((encoder_fw_outputs,\n",
    "  encoder_bw_outputs),\n",
    " (encoder_fw_final_state,\n",
    "  encoder_bw_final_state)) = (\n",
    "    tf.nn.bidirectional_dynamic_rnn(cell_fw=encoder_cell,\n",
    "                                    cell_bw=encoder_cell,\n",
    "                                    inputs=encoder_inputs_embedded,\n",
    "                                    sequence_length=encoder_inputs_length,\n",
    "                                    dtype=tf.float32, time_major=True)\n",
    "    )"
   ]
  },
  {
   "cell_type": "markdown",
   "metadata": {},
   "source": [
    "### Forward and backward outputs and state are concatenated and used for attention"
   ]
  },
  {
   "cell_type": "code",
   "execution_count": 24,
   "metadata": {
    "collapsed": true
   },
   "outputs": [],
   "source": [
    "encoder_outputs = tf.concat((encoder_fw_outputs, encoder_bw_outputs), 2)\n",
    "\n",
    "encoder_final_state_c = tf.concat(\n",
    "    (encoder_fw_final_state.c, encoder_bw_final_state.c), 1)\n",
    "\n",
    "encoder_final_state_h = tf.concat(\n",
    "    (encoder_fw_final_state.h, encoder_bw_final_state.h), 1)\n",
    "\n",
    "encoder_final_state = LSTMStateTuple(\n",
    "    c=encoder_final_state_c,\n",
    "    h=encoder_final_state_h\n",
    ")"
   ]
  },
  {
   "cell_type": "markdown",
   "metadata": {},
   "source": [
    "## Decoder"
   ]
  },
  {
   "cell_type": "markdown",
   "metadata": {},
   "source": [
    "We are using raw_rnns for decoders as it allows to control what should output, what should be fed next, and hence allows us to include attention mechanism"
   ]
  },
  {
   "cell_type": "code",
   "execution_count": 25,
   "metadata": {
    "collapsed": true
   },
   "outputs": [],
   "source": [
    "# Defining the decoder cell \n",
    "\n",
    "decoder_cell = LSTMCell(decoder_hidden_units)"
   ]
  },
  {
   "cell_type": "code",
   "execution_count": 26,
   "metadata": {
    "collapsed": true
   },
   "outputs": [],
   "source": [
    "# Unstacting the inputs from batches \n",
    "\n",
    "encoder_max_time, batch_size = tf.unstack(tf.shape(encoder_inputs))"
   ]
  },
  {
   "cell_type": "markdown",
   "metadata": {},
   "source": [
    "In this project the decoder will be able to predict sequences of lengths +2 additional steps. +500 did not work because of vanishing gradients"
   ]
  },
  {
   "cell_type": "code",
   "execution_count": 27,
   "metadata": {
    "collapsed": true
   },
   "outputs": [],
   "source": [
    "decoder_lengths = encoder_inputs_length + 2"
   ]
  },
  {
   "cell_type": "markdown",
   "metadata": {},
   "source": [
    "## Label mapping for backpropagation\n",
    "\n",
    "We are defining the weights and biases for the linear softmax layer to generate probability distribution for the predictions and map with the original sequence"
   ]
  },
  {
   "cell_type": "code",
   "execution_count": 28,
   "metadata": {
    "collapsed": true
   },
   "outputs": [],
   "source": [
    "W = tf.Variable(tf.random_uniform([decoder_hidden_units, vocab_size], -1, 1), dtype=tf.float32)\n",
    "b = tf.Variable(tf.zeros([vocab_size]), dtype=tf.float32)"
   ]
  },
  {
   "cell_type": "markdown",
   "metadata": {},
   "source": [
    "Token preparation for EOS and PAD tokens to denote End of sequence and Padding for smaler sequences"
   ]
  },
  {
   "cell_type": "code",
   "execution_count": 29,
   "metadata": {
    "collapsed": true
   },
   "outputs": [],
   "source": [
    "assert EOS == 1 and PAD == 0\n",
    "\n",
    "eos_time_slice = tf.ones([batch_size], dtype=tf.int32, name='EOS')\n",
    "pad_time_slice = tf.zeros([batch_size], dtype=tf.int32, name='PAD')\n",
    "\n",
    "eos_step_embedded = tf.nn.embedding_lookup(embeddings, eos_time_slice)\n",
    "pad_step_embedded = tf.nn.embedding_lookup(embeddings, pad_time_slice)"
   ]
  },
  {
   "cell_type": "markdown",
   "metadata": {},
   "source": [
    "Next we define two loop functions involving tensors to implement soft attention mechanism. Also by defining the loop functions we will be providing the previously generated decoder output to the current cell computation.\n",
    "\n",
    "\n",
    "Loop transition function is a mapping `(time, previous_cell_output, previous_cell_state, previous_loop_state) -> (elements_finished, input, cell_state, output, loop_state)`. It is called *before* RNNCell to prepare its inputs and state. Everything is a Tensor except for initial call at time=0 when everything is `None` (except `time`)."
   ]
  },
  {
   "cell_type": "code",
   "execution_count": 30,
   "metadata": {
    "collapsed": true
   },
   "outputs": [],
   "source": [
    "# Loop initialization function. Loop initial state is function of only `encoder_final_state` and embeddings:\n",
    "def loop_fn_initial():\n",
    "    initial_elements_finished = (0 >= decoder_lengths)  # all False at the initial step\n",
    "    initial_input = eos_step_embedded\n",
    "    initial_cell_state = encoder_final_state\n",
    "    initial_cell_output = None\n",
    "    initial_loop_state = None  # we don't need to pass any additional information\n",
    "    return (initial_elements_finished,\n",
    "            initial_input,\n",
    "            initial_cell_state,\n",
    "            initial_cell_output,\n",
    "            initial_loop_state)"
   ]
  },
  {
   "cell_type": "markdown",
   "metadata": {},
   "source": [
    "Loop transition function"
   ]
  },
  {
   "cell_type": "code",
   "execution_count": 31,
   "metadata": {
    "collapsed": true
   },
   "outputs": [],
   "source": [
    "# Define transition function such that maximum probable previously generated token is passed as next input.\n",
    "def loop_fn_transition(time, previous_output, previous_state, previous_loop_state):\n",
    "\n",
    "    def get_next_input():\n",
    "        output_logits = tf.add(tf.matmul(previous_output, W), b)\n",
    "        prediction = tf.argmax(output_logits, axis=1)\n",
    "        next_input = tf.nn.embedding_lookup(embeddings, prediction)\n",
    "        return next_input\n",
    "    \n",
    "    elements_finished = (time >= decoder_lengths) \n",
    "\n",
    "    finished = tf.reduce_all(elements_finished) # -> boolean scalar\n",
    "    input = tf.cond(finished, lambda: pad_step_embedded, get_next_input)\n",
    "    state = previous_state\n",
    "    output = previous_output\n",
    "    loop_state = None\n",
    "\n",
    "    return (elements_finished, input, state, output, loop_state)"
   ]
  },
  {
   "cell_type": "markdown",
   "metadata": {},
   "source": [
    "Combining the initializer and transition functions to create a new raw_rnn."
   ]
  },
  {
   "cell_type": "code",
   "execution_count": 32,
   "metadata": {
    "collapsed": true
   },
   "outputs": [],
   "source": [
    "def loop_fn(time, previous_output, previous_state, previous_loop_state):\n",
    "    if previous_state is None:    # time == 0\n",
    "        assert previous_output is None and previous_state is None\n",
    "        return loop_fn_initial()\n",
    "    else:\n",
    "        return loop_fn_transition(time, previous_output, previous_state, previous_loop_state)\n",
    "\n",
    "decoder_outputs_ta, decoder_final_state, _ = tf.nn.raw_rnn(decoder_cell, loop_fn)\n",
    "decoder_outputs = decoder_outputs_ta.stack()"
   ]
  },
  {
   "cell_type": "markdown",
   "metadata": {},
   "source": [
    "Flattening the layers and getting the logits for the prediction"
   ]
  },
  {
   "cell_type": "code",
   "execution_count": 33,
   "metadata": {
    "collapsed": true
   },
   "outputs": [],
   "source": [
    "decoder_max_steps, decoder_batch_size, decoder_dim = tf.unstack(tf.shape(decoder_outputs))\n",
    "decoder_outputs_flat = tf.reshape(decoder_outputs, (-1, decoder_dim))\n",
    "decoder_logits_flat = tf.add(tf.matmul(decoder_outputs_flat, W), b)\n",
    "decoder_logits = tf.reshape(decoder_logits_flat, (decoder_max_steps, decoder_batch_size, vocab_size))"
   ]
  },
  {
   "cell_type": "markdown",
   "metadata": {},
   "source": [
    "Getting the predictions in a tensor"
   ]
  },
  {
   "cell_type": "code",
   "execution_count": 34,
   "metadata": {
    "collapsed": true,
    "scrolled": false
   },
   "outputs": [],
   "source": [
    "decoder_prediction = tf.argmax(decoder_logits, 2)"
   ]
  },
  {
   "cell_type": "markdown",
   "metadata": {},
   "source": [
    "### Optimizer"
   ]
  },
  {
   "cell_type": "markdown",
   "metadata": {},
   "source": [
    "We are using softmax function for generating the prediction probabilities. Categorical crossentrpy is used as a loss function for computing the difference between the actual and predicted probability distributions"
   ]
  },
  {
   "cell_type": "code",
   "execution_count": 35,
   "metadata": {
    "collapsed": true
   },
   "outputs": [],
   "source": [
    "stepwise_cross_entropy = tf.nn.softmax_cross_entropy_with_logits(\n",
    "    labels=tf.one_hot(decoder_targets, depth=vocab_size, dtype=tf.float32),\n",
    "    logits=decoder_logits,\n",
    ")\n",
    "\n",
    "loss = tf.reduce_mean(stepwise_cross_entropy)\n",
    "train_op = tf.train.AdamOptimizer(learning_rate=0.004,).minimize(loss)"
   ]
  },
  {
   "cell_type": "markdown",
   "metadata": {},
   "source": [
    "Initialize all the variables to check the basic model is correct or not"
   ]
  },
  {
   "cell_type": "code",
   "execution_count": 36,
   "metadata": {
    "collapsed": true
   },
   "outputs": [],
   "source": [
    "sess.run(tf.global_variables_initializer())"
   ]
  },
  {
   "cell_type": "markdown",
   "metadata": {},
   "source": [
    "## Training on the dataset"
   ]
  },
  {
   "cell_type": "code",
   "execution_count": 37,
   "metadata": {
    "collapsed": true
   },
   "outputs": [],
   "source": [
    "batch_size = 10\n",
    "epochs = 20\n",
    "\n",
    "def next_feed(index):\n",
    "    batch = X_train[index*batch_size: (index+1)*batch_size]\n",
    "    #print (\"Batch \", batch)\n",
    "    encoder_inputs_, encoder_input_lengths_ = helpers.batch(batch)\n",
    "    #print \"Encoder i/p:\", encoder_inputs_\n",
    "    decoder_targets_, _ = helpers.batch(\n",
    "        [(sequence[1:len(sequence)]) + [EOS] + [PAD]*2 for sequence in batch]\n",
    "    )\n",
    "    return {\n",
    "        encoder_inputs: encoder_inputs_,\n",
    "        encoder_inputs_length: encoder_input_lengths_,\n",
    "        decoder_targets: decoder_targets_,\n",
    "    }"
   ]
  },
  {
   "cell_type": "markdown",
   "metadata": {},
   "source": [
    "Loss variable to track the loss after each epoch"
   ]
  },
  {
   "cell_type": "code",
   "execution_count": 38,
   "metadata": {
    "collapsed": true
   },
   "outputs": [],
   "source": [
    "loss_track = []"
   ]
  },
  {
   "cell_type": "markdown",
   "metadata": {},
   "source": [
    "Running the train method and tracking the time for each epoch"
   ]
  },
  {
   "cell_type": "code",
   "execution_count": 39,
   "metadata": {
    "scrolled": true
   },
   "outputs": [
    {
     "name": "stdout",
     "output_type": "stream",
     "text": [
      "WARNING:tensorflow:From /home/sachin/anaconda2/lib/python2.7/site-packages/tensorflow/python/util/tf_should_use.py:107: initialize_all_variables (from tensorflow.python.ops.variables) is deprecated and will be removed after 2017-03-02.\n",
      "Instructions for updating:\n",
      "Use `tf.global_variables_initializer` instead.\n",
      "('Epoch', 0)\n",
      "10.595109\n",
      "10.30477\n",
      "10.296449\n",
      "10.184431\n",
      "Time taken per epoch:  68.8064701557\n",
      "('Epoch', 1)\n",
      "9.714048\n",
      "9.86598\n",
      "9.921107\n",
      "9.7864485\n",
      "Time taken per epoch:  67.9911730289\n",
      "('Epoch', 2)\n",
      "9.18689\n",
      "9.516655\n",
      "9.602545\n",
      "9.488873\n",
      "Time taken per epoch:  64.368366003\n",
      "('Epoch', 3)\n",
      "8.879628\n",
      "9.154964\n",
      "9.244562\n",
      "9.11173\n",
      "Time taken per epoch:  63.6041829586\n",
      "('Epoch', 4)\n",
      "8.625769\n",
      "10.014691\n",
      "9.189094\n",
      "9.79594\n",
      "Time taken per epoch:  63.6921460629\n",
      "('Epoch', 5)\n",
      "8.406231\n",
      "8.554599\n",
      "8.776959\n",
      "8.89195\n",
      "Time taken per epoch:  63.8741130829\n",
      "('Epoch', 6)\n",
      "7.8010907\n",
      "8.121935\n",
      "8.307964\n",
      "8.090075\n",
      "Time taken per epoch:  64.0411410332\n",
      "('Epoch', 7)\n",
      "7.44532\n",
      "7.712841\n",
      "8.060685\n",
      "7.683864\n",
      "Time taken per epoch:  64.5985150337\n",
      "('Epoch', 8)\n",
      "6.9585705\n",
      "7.3844247\n",
      "7.6310344\n",
      "7.2426257\n",
      "Time taken per epoch:  63.694589138\n",
      "('Epoch', 9)\n",
      "6.3532863\n",
      "6.9843874\n",
      "7.2370076\n",
      "6.8569217\n",
      "Time taken per epoch:  64.6257820129\n",
      "('Epoch', 10)\n",
      "5.925279\n",
      "6.5897164\n",
      "6.8851027\n",
      "6.382462\n",
      "Time taken per epoch:  64.1280350685\n",
      "('Epoch', 11)\n",
      "5.5481415\n",
      "6.2332425\n",
      "6.265205\n",
      "6.1097794\n",
      "Time taken per epoch:  64.2347278595\n",
      "('Epoch', 12)\n",
      "5.0888186\n",
      "5.782421\n",
      "5.9081044\n",
      "5.746878\n",
      "Time taken per epoch:  64.2642419338\n",
      "('Epoch', 13)\n",
      "4.666566\n",
      "5.4345226\n",
      "5.3578324\n",
      "5.547274\n",
      "Time taken per epoch:  64.2275719643\n",
      "('Epoch', 14)\n",
      "4.358631\n",
      "5.0362763\n",
      "4.9037876\n",
      "5.012026\n",
      "Time taken per epoch:  65.2506170273\n",
      "('Epoch', 15)\n",
      "3.978104\n",
      "4.6587815\n",
      "4.680494\n",
      "4.74624\n",
      "Time taken per epoch:  66.8974721432\n",
      "('Epoch', 16)\n",
      "3.7099733\n",
      "4.314043\n",
      "4.3374095\n",
      "4.478523\n",
      "Time taken per epoch:  66.8162670135\n",
      "('Epoch', 17)\n",
      "3.551838\n",
      "4.0214343\n",
      "4.0737247\n",
      "3.956275\n",
      "Time taken per epoch:  65.6204211712\n",
      "('Epoch', 18)\n",
      "3.2020597\n",
      "3.6006222\n",
      "3.7290387\n",
      "3.7918978\n",
      "Time taken per epoch:  65.4933550358\n",
      "('Epoch', 19)\n",
      "2.9895754\n",
      "3.3529334\n",
      "3.3823457\n",
      "3.4077299\n",
      "Time taken per epoch:  64.2763180733\n"
     ]
    }
   ],
   "source": [
    "sess.run(tf.initialize_all_variables())\n",
    "import time\n",
    "\n",
    "\n",
    "#try:\n",
    "for i in range (epochs):\n",
    "    tic = time.time()\n",
    "    print (\"Epoch\", i)\n",
    "    index = 0\n",
    "    for index in range (len(X_train)/batch_size):\n",
    "        fd = next_feed(index)\n",
    "        #index = index\n",
    "        _, l = sess.run([train_op, loss], fd)\n",
    "        loss_track.append(l)\n",
    "        if(len(loss_track)%20 == 0):\n",
    "            print loss_track[-1]\n",
    "    print \"Time taken per epoch: \", time.time() - tic"
   ]
  },
  {
   "cell_type": "markdown",
   "metadata": {},
   "source": [
    "### Saving the model"
   ]
  },
  {
   "cell_type": "code",
   "execution_count": 41,
   "metadata": {},
   "outputs": [
    {
     "name": "stdout",
     "output_type": "stream",
     "text": [
      "0426_2158\n"
     ]
    }
   ],
   "source": [
    "import time\n",
    "timestr = time.strftime(\"%m%d_%H%M\")\n",
    "print timestr\n",
    "model_name =  './1000_playlist_50_epoch_400_neuron' + timestr + '.ckpt'"
   ]
  },
  {
   "cell_type": "code",
   "execution_count": 42,
   "metadata": {
    "collapsed": true
   },
   "outputs": [],
   "source": [
    "saver = tf.train.Saver(max_to_keep=1) \n",
    "#with tf.Session() as sess:\n",
    "savePath = saver.save(sess, model_name)"
   ]
  },
  {
   "cell_type": "code",
   "execution_count": null,
   "metadata": {},
   "outputs": [],
   "source": [
    "model_name_to_load = 'sleep_50_epoch_400_neuron0424_1424.ckpt'\n",
    "saver = tf.train.import_meta_graph(model_name_to_load + '.meta')\n",
    "saver.restore(sess, model_name_to_load)\n",
    "# access a variable from the saved Graph, and s on:\n",
    "#someVar = sess.run('varName:0')"
   ]
  },
  {
   "cell_type": "markdown",
   "metadata": {
    "collapsed": true
   },
   "source": [
    "## Testing on the toy dataset"
   ]
  },
  {
   "cell_type": "code",
   "execution_count": 50,
   "metadata": {},
   "outputs": [],
   "source": [
    "# Trial test for 10 small batch\n",
    "#X_test = [[8], [2,196, 197], [3,356,357,358, 359, 361, 363], [373,374], [2, 356, 357], [2, 356, 357, 358]]\n",
    "#X_test = [[11, 994, 995, 996, 997, 998, 515, 999, 731, 1000, 1001, 1002, 1003, 1004, 1005, 1006, 1007, 1008, 1009, 1010, 1011, 1012, 1013]]\n",
    "\n",
    "# Trial test for 100 batch\n",
    "#X_test = [[2, 94, 95, 96, 97, 98, 99]] #, [99, 5922, 5923, 2668, 5469, 5924, 5925, 5926], [2, 94, 95, 96, 97, 98, 99]] #, [2, 94, 95, 96, 97, 98, 99, 100, 101, 102, 103, 104, 105, 106, 107, 108, 109, 110, 111, 112, 113, 114, 115, 116, 117, 118, 119, 120, 121, 122], [3, 279, 280, 281, 282], [4], [8, 866, 867, 456], [101, 5969, 2048, 5937]]\n",
    "#X_test = [[2, 94, 95, 96, 97, 98, 99, 100, 101, 102, 103, 104, 105, 106, 107, 108, 109, 110]]\n",
    "#X_test = [[99, 5922, 5923, 2668, 5469, 5924, 5925, 5926]]\n",
    "#X_test = [[2, 94, 95, 96, 97, 98, 99, 100, 101, 102, 103, 104, 105, 106, 107, 108, 109, 110, 111, 112, 113, 114, 115, 116, 117, 118, 119, 120, 121, 122, 123, 124, 125, 126, 123, 124, 121, 120, 127, 128, 129, 130, 131, 132, 133, 134, 135, 136, 137, 138, 139, 140, 141, 142, 143, 144, 145, 146, 147, 148, 149, 150, 151, 152, 153, 154, 155, 156, 157, 158, 159, 160, 161, 162, 163, 164, 165, 166, 167, 168, 169, 170, 171, 172, 173, 174, 175, 176, 177, 178, 179, 180, 181, 182, 183, 184, 185, 186, 187, 188, 189, 190, 191, 192, 193, 194, 195, 196, 197, 198, 199, 200, 201, 202, 203, 204, 205, 206, 207, 208, 209, 210, 211, 212, 213, 214, 215, 216, 217, 218, 219, 220, 221, 222, 223, 224, 225, 226, 227, 228, 229, 230, 231, 232, 233, 234, 235, 236, 237, 238, 239, 240, 241, 242, 243, 244, 245, 246, 247, 248, 249, 250, 251, 252, 253, 254, 255, 256, 257, 258, 259, 260, 261, 262, 263, 264, 265, 266, 267, 268, 269, 270, 271, 272, 273, 274, 275, 276, 277, 278], [3, 279, 280, 281, 282, 283, 284, 285, 286, 287, 288, 289, 290, 291, 292, 293, 294, 295, 296, 297, 298, 299, 300, 301, 302, 303, 304, 305, 306, 307, 308, 305, 309, 310, 311, 312, 301, 300, 313, 314, 315, 293, 316, 317, 318, 319, 320, 321, 322, 323, 324, 325, 326, 327, 328, 329, 330, 331, 332, 333, 334, 335, 318, 336, 337, 338, 339, 340, 341, 342, 343, 344, 345, 346, 347, 348, 349, 350, 351, 352, 353, 354, 355, 356, 357, 358, 359, 360, 361, 362, 363, 364, 365, 366, 367, 368, 369, 370, 371, 372, 373, 374, 375, 376, 377, 378, 379, 380, 381, 382, 383, 384, 385, 386, 387, 388, 389, 390, 391, 392, 393, 394, 395, 396, 397, 398, 399, 400, 401, 402, 403, 404, 405, 406, 407, 408, 409, 410, 411, 412, 413, 414, 415, 416, 417, 418, 419, 420, 421, 422, 423, 424, 425, 426, 427, 428, 429, 430, 431, 432, 433, 434, 435, 436, 437, 438], [4, 439, 440, 441, 442, 443, 444, 445, 446, 447, 448, 449, 450, 451, 452, 453, 454, 455], [5, 456, 457, 458, 459, 460, 461, 462, 463, 464, 465, 466, 467, 468, 469, 470, 471, 472, 473, 474, 475, 476, 477, 478, 479, 480, 481, 482, 483, 484, 485, 486, 487, 488, 489, 490, 491, 492, 493, 494, 495, 496, 497, 498, 499, 500, 501, 502, 503, 504, 505, 506, 507, 508, 509, 510, 511, 512, 513, 514, 515, 516, 517, 518, 519, 520, 521, 522, 523, 524, 525, 526, 527, 528, 529, 530, 531, 532, 533, 534, 535, 536, 537, 538, 539, 540, 541, 542, 543, 544, 545, 546, 547, 548, 549, 550, 551, 552, 553, 554, 555, 556, 557, 558, 559, 560, 561, 562, 563, 564, 565, 566, 567, 568, 569, 570, 571, 572, 573, 574, 575, 576, 577, 578, 579, 580, 581, 582, 583, 584, 585, 586, 587, 588, 589, 590, 591, 592, 593, 594, 595, 596, 597, 598, 599, 600, 601, 602, 603, 604, 605, 606, 607, 608, 609, 610, 611, 612, 613, 614, 615, 616, 617, 618, 619, 620, 621, 622, 623, 624, 625, 626, 627, 628, 629, 630, 631, 632, 633, 634, 635, 636, 637, 638, 637, 639, 640, 641, 642, 643, 644, 645, 646, 647, 648, 649, 650, 651, 652, 653, 654, 655, 656, 657, 658, 659, 660, 661, 662, 663, 664, 665, 666, 667, 668, 669, 670, 671, 672, 673, 674, 675, 676, 677, 678, 679], [6, 680, 681, 682, 683, 684, 685, 686, 687, 688, 689, 690, 691, 692, 693, 694, 625, 695, 696, 697, 698, 699, 700, 701, 702, 703, 704, 705, 706, 707, 708, 709, 710, 711, 712, 713, 714, 715, 716, 717, 718, 719, 720, 721, 722, 723, 724, 713, 725, 726, 727, 728, 729, 730, 731, 732, 733, 734, 735, 736, 737, 738, 739, 740, 741, 742, 743, 744, 745, 746, 747, 748, 749, 750, 751, 752, 753, 754, 755, 756, 757, 758, 759, 760, 761, 762, 763, 764, 765, 766, 767, 768, 769, 770, 771, 772, 773, 774, 775, 776, 777, 778, 779, 780, 781, 782, 783, 784, 785, 786, 787, 788, 789, 790, 791, 792, 793, 794, 795, 796, 797, 798, 799, 800, 801, 802, 803, 804, 805, 806, 807, 808, 809, 810, 811, 812, 813, 814, 815, 816, 817, 818, 819, 820, 821, 822, 823, 824, 825, 587, 587, 826, 827, 474, 473, 828, 829, 830, 831, 832, 833, 834, 835, 836, 837, 838], [7, 839, 840, 841, 842, 843, 844, 845, 846, 847, 848, 849, 850, 851, 852, 853, 854, 855, 856, 857, 585, 858, 859, 860, 861, 862, 863, 864, 865], [8, 866, 867, 456, 868, 869, 870, 871, 872, 873, 874, 875, 876, 877, 878, 879, 880, 881, 882, 883, 884, 885, 886, 887, 888, 889, 890, 891, 892, 893, 894, 895, 896, 897, 898, 899, 900, 901, 902, 481, 903, 904, 905, 906, 907, 908, 909, 910, 911, 912, 501, 913, 914, 915, 916, 917, 918, 919, 920, 921, 922, 923, 924, 925, 926, 927, 928, 929, 930, 931, 932, 933, 934, 935, 936, 937, 938, 939, 940, 941, 803], [9, 942, 943, 944, 945, 862, 946, 947, 948, 949, 844, 950, 951, 952, 953, 954, 955, 956, 957, 958, 959, 960, 961, 583, 962, 963, 964, 965, 966, 577, 967, 968, 969, 859, 970, 971, 972, 973, 974, 975, 976, 977, 978, 979, 980, 981, 982, 983, 984, 985, 858, 986, 987, 988, 989, 990, 991, 992, 993], [10, 994, 995, 996, 997, 951, 998, 999, 1000, 1001, 1002, 1003, 1004, 1005, 1006, 1007, 1008, 1009, 1010, 875, 1011, 1012, 1013, 1014, 1015, 1016, 1017, 1018, 1019, 1020, 1021, 1022, 1023, 1024, 1025, 1026, 1027, 1028, 1029, 1030, 1031, 1032, 1033, 1034, 1035, 1036, 1037, 1038, 1039, 1040, 1041, 1042, 1043, 1044, 1045, 1046, 1047, 1048, 1049, 1050, 1051, 1052, 1053, 1054, 1055, 1056, 844, 1057, 1058, 1059, 1060, 1061, 1062, 1063, 1064, 1065, 948, 1066, 1067, 1068, 1069, 1070, 1071, 1072, 1073], [11, 1074, 1075, 1076, 1077, 1078, 1079, 1080, 597, 1081, 813, 1082, 1083, 1084, 1085, 1086, 1087, 1088, 1089, 1090, 1091, 1092, 1093, 1094, 1095, 1096, 1097, 1098, 1099, 1100, 1101, 1102, 1103, 1104, 1105, 1106, 1107, 1108, 1109, 1110, 1111, 1112], [12, 1113, 1114, 1115, 1116, 1117, 1118, 1119, 873, 1120, 1121, 1122, 1123, 1124, 1125, 1126, 1127, 1128, 1129, 1130, 1131, 1132, 1133, 1134, 1135, 1136, 1137, 1138, 1139, 1140, 1141, 1142, 1143, 1144, 1145, 1146, 1147, 1148, 1149, 1150, 1151, 1152, 1153, 1154, 1155, 1156, 1157, 1158, 1159, 1160, 1161, 1162, 1163, 1164, 1165, 1166, 1167, 1168, 1169, 1170, 1171, 1172, 1173, 912, 1174, 1175, 1176, 556, 1177, 1178, 1179, 1180, 476, 1181, 1182], [13, 1183, 1184, 1185, 1186, 1187, 1188, 1189, 1190, 1191, 591, 1192, 1193, 587, 1194, 1195, 1196, 1197, 1198, 1199, 619, 1200, 1201, 631, 1202, 644, 1203, 1204, 1205, 1206, 1207, 1208, 1209, 1210, 1211, 1212, 1213, 1214, 1215, 1216, 1217, 1218, 1219, 1220, 604, 1221, 1222, 1223, 1224, 1225, 1226, 1227, 1228, 1229, 1230, 1231, 1232, 954, 1233, 1234, 1235, 1236, 949, 1237, 1238, 1239, 1240, 1241, 1242, 1243, 1244, 1245, 1246, 1247, 1248, 1249, 1250, 1251, 1252, 1253, 1254, 1255, 1256, 1257, 1258, 1259, 1260, 1261, 1262, 1263, 1264, 1265, 1266, 1267, 1268, 1269, 1270, 1271], [14, 1272, 1273, 1274, 1275, 1276, 1277, 1278, 1279, 1280, 1281, 1282, 1283, 1284, 1285, 1286, 1287, 1288, 1289], [15, 1097, 912, 1290, 1291, 1292, 1293, 609, 1294, 1295, 1296, 1297, 1298, 1299, 1300, 1301, 1302, 1303, 1304, 1305, 1306, 1307, 1308, 1309, 1310, 918, 1311, 1312, 1098, 1313, 1314, 1315, 1316, 1317, 1318, 1319, 1320, 1321, 1322, 1323, 1324, 1325, 1326, 1327, 1328, 1329, 1330, 473, 1331, 1332, 1333, 1334, 1335, 1314, 1336, 1337, 1338, 1339, 535, 1340, 1341, 474, 1342, 1343, 1344, 1345, 591, 1346], [16, 1347, 1348, 1349, 1350, 1351, 1352, 1353, 1354, 1355, 1356, 1357, 1101, 1358, 1359, 1360, 1361, 1362, 1363, 1364, 1365, 1366, 1367, 1368, 1369, 1370, 1371, 1372, 809, 1373, 807, 1374, 1375, 1376, 1377, 1378, 1379, 1380, 1381, 1382, 1383, 1384, 1385, 1386, 1387, 1388, 1389, 1390, 1391, 901, 529, 1392, 1393, 1394, 1395, 1396, 1397, 1398, 1399, 1400, 525, 1401, 1402, 1403, 1404, 1405, 1406, 1407, 1408, 1409, 1410, 1411, 1412, 1059, 508, 1413, 1414, 1415, 473, 1416, 1417, 1108, 1418, 1419], [17, 1420, 1421, 1422, 1423, 1424, 1425, 1426, 1427, 1428, 1429, 1430, 1431, 1432, 1433, 1434, 1435, 1436, 1437, 1438, 1439, 1440, 1441, 1442, 1443, 1444, 1445, 1446, 1447, 1448, 1449, 1450, 1451, 1452, 1453, 1454, 1455, 1456, 1457, 1458, 1459, 1460, 1461, 1462, 1463, 1464, 1465, 1466, 1467, 1468, 1469, 1470, 1471, 1472], [18, 1473, 1474, 1475, 1476, 561, 1477, 1478, 484, 1479, 462, 1480, 1481, 1482, 1483, 1484, 1485, 1486, 1487, 1488, 1489, 1490, 1491, 966, 1492, 1493, 1494, 1495, 1496, 1497, 1498, 1499, 1500, 1501, 1502, 1503, 1504, 1505, 1506, 1507, 1508, 1509, 1510, 1511, 1512, 1513, 1514, 1515, 1516, 1517, 585, 1518, 1519, 1520, 1521, 962, 1522, 1523, 1524, 1525, 1526, 961, 510, 1527, 1528, 1529, 1530, 1531, 1532, 859, 1533, 1534, 1535, 1536, 577, 952, 1537, 1538, 1539, 1540, 1541, 1542, 1543, 1544, 1545, 1546, 1547, 1548, 1549, 1550, 1551, 1552, 1553, 1554, 1555, 1556, 1557, 957, 1558, 861, 1559, 1560, 1561, 1562, 1563, 1564, 1565, 841, 1566, 1567, 1568, 1569, 576, 1570, 1571, 1572, 1573, 1574, 1575, 1576, 1577, 1578, 1579, 1580, 1581, 1582, 1583, 1584, 1585, 1586, 1587, 1588, 1589, 1590, 1591, 1592, 1593, 847, 1594, 1595, 1596, 1597, 1598, 1599, 1600, 1601, 1602, 1603, 1604, 960, 1605, 1606, 1607, 1608, 1609, 1610, 1611, 1612, 1613, 1614, 1615, 1616, 485, 1617, 516, 1618, 1619, 1620, 1621, 942, 1622, 1623, 1624, 1625, 1626, 1627, 1628, 1629, 1630, 1631, 1632, 1633, 1634, 1635, 1636, 1637, 1638, 1639, 1640, 1641, 1642, 1643, 1644, 864, 1645, 1646, 1647, 944, 1648], [19, 1649, 1650, 1651, 1652, 1653, 1654, 1655, 1656, 1657, 1658, 1659, 1660, 1661, 1662, 1663, 1664, 1665, 1666, 1667, 1668, 1669, 1670, 1671, 1672, 1673, 1674, 1675, 1676, 1677], [20, 1678, 1679, 1680, 1681, 1682, 1683, 1684, 916, 1685, 1686, 1687, 1688, 1689, 875, 1690, 1691, 1692, 1693, 1694, 1695, 1696, 1697, 1698, 1699, 1700, 1701, 1702, 1703, 1704, 1705, 1706, 1707, 1708, 1709, 1710, 1711, 1712, 1713, 1714, 1715, 1716, 1717, 1513, 1718, 1719, 1720, 1721, 1722, 1723, 1724, 1725, 1726, 1727, 1728, 1729, 1730, 1731, 1732, 1733, 1734, 1735, 1736, 1737, 1738, 1739, 1740, 783, 1741, 1742, 1743, 1744, 1745, 1746, 912, 1747, 1748, 1749, 1750, 1751, 1752, 1753, 1754, 1755, 1756, 1757, 1555, 1758, 1759, 1760, 1761, 1762, 1763, 1764, 1765, 1766, 1500, 1767, 1768, 1769, 1770, 1771, 1772, 1773, 1774, 1775, 1776, 1099, 1777, 1778, 1779, 1582, 1780, 1781, 1782, 1783, 1784, 1785, 1786, 1787, 1788, 1789, 1790, 917, 522, 1791, 1792, 1793, 1794, 1795, 1796], [21, 1797, 1798, 1799, 1800, 1801, 1802, 1803, 1804, 1805, 1806, 1807, 1808, 1809, 1810, 1811, 1812, 1813, 1814, 1815, 1816, 1817, 1818, 1819, 1820, 1821, 1822, 1823, 1824, 1825, 1826, 1827, 1828, 1829, 1830, 513, 1831, 1832, 1833, 1834, 1835, 1836, 1837, 1838], [22, 1839, 1840, 1841, 1842, 1843, 1844, 1845, 1846, 1847, 1848, 1849, 1850, 1851, 1852, 1853, 1854, 1855], [23, 1856, 1857, 1858, 1859, 1860, 1861, 1862, 1863, 1864, 1865, 1866, 1867, 1868, 1869, 1870, 1871, 1872, 1873, 1874, 1875, 1876, 1877, 1878, 1879, 1880, 1881, 1882, 1883, 1884, 1885, 1886, 1887, 1888, 1889, 1890, 1891, 1892, 1893, 1894, 1895, 1896, 1897, 1898, 1899, 1900, 1901, 1902, 1903, 1904, 1905, 1906, 1907, 1908, 1909, 1910, 1911, 1912, 1913, 1914, 1915, 1916, 1917, 1918, 1919, 1920, 1921, 1922, 1923, 1924, 1925, 1926, 1927, 1928, 1929, 1930, 1931, 1932, 1933, 1934, 1935, 1936, 1937, 1938, 1939, 1940, 1941, 1942, 1943, 1944, 1945, 1946, 1947, 1948, 1949, 1950, 1951, 1952, 1953, 1954, 1955, 1956, 1957, 1958, 1959, 1960, 1961], [24, 1962, 1963, 1964, 1965, 1966, 1967, 1968, 1969, 1970, 1971, 1972, 1973, 1974, 1975, 1976, 1977, 1978, 1979, 1980, 1981, 1982, 1983, 1984, 1985, 1986, 1987, 1988, 1989, 1990], [25, 1991, 1992, 1993, 1994, 1995, 1996, 1997, 1998, 1999, 1999, 2000, 2001, 2002, 2003, 2004, 2005, 2006, 2007, 2008, 2009, 2010, 2011, 2012, 2010, 2013, 2014, 2015, 2016, 2017, 2018, 2019, 2020, 2021, 2022, 2023], [26, 2024, 2025, 2026, 2027, 2028, 565, 2029], [27, 2030, 1821, 1607, 477, 2031, 2032, 823, 2033, 2034, 2035, 2036, 2037, 2038, 1139, 2039, 2040, 2041, 2042, 1378, 2043, 2044, 2045, 2046, 2047, 2048, 2049, 2050, 2051, 2052, 2053, 1607, 2054, 2035, 2055, 2056, 2057, 2058, 2059, 2060, 2061, 2062, 2063, 2064, 2065, 2066, 2067, 2052, 2068, 2069, 533, 2070, 2071, 2030, 2072, 2073, 2074, 2075, 2076, 2077, 692, 2064, 2078, 2079, 1742, 2080, 2081, 500, 2082, 2083, 2084, 2085, 500, 2086, 2087, 2088, 2046, 2089, 499, 2047, 2090, 2091, 2092, 2093, 2094, 2095, 2096, 1276, 692, 2097, 2098, 2099, 2100, 2101, 2102, 2103, 2104, 2105, 2106, 2107, 2108, 2109, 2110, 2111, 2112, 2113, 2114, 2115, 2116, 1503, 2117, 2118, 2119, 2120, 2121, 2122, 2123, 2124, 2125, 2126, 2127, 2128, 2129, 2130, 2131, 2132, 2133, 2134, 2135, 2136, 2137, 2138, 2139, 2140, 2141, 483, 2142, 2143, 2144, 2145, 2146, 2129, 2147, 2148, 2149, 2150, 2151, 2152, 1277, 1276, 1597, 2153, 2096, 2154, 2155, 2156, 2157, 2158, 2159, 2160, 2161, 2162, 2163, 2164, 2165, 2166, 2167, 2168, 2169, 2170, 2171, 2172, 2173, 1755, 2174, 2175, 2176, 2156, 2177, 2178, 2179, 2180, 2129, 2181, 2182, 2183, 2163, 2184, 2185, 2186, 2187, 2188, 2187, 2189, 2190, 2191, 2192, 2193, 2194, 2195, 2196, 2197, 2198, 2199, 1281, 2200, 2201, 2202], [28, 2203, 2204, 2205, 2206, 2207, 2208, 2208, 2208, 2208, 2209, 2210, 2211, 2212, 2213, 2214, 2215, 2216, 2217, 2218, 2218, 2218, 2219, 2220, 2221], [29, 2222, 2223, 2224, 2225, 2226, 2227, 2228, 2229, 2230, 2231, 2232, 2233, 2234, 2235, 2236, 2237, 2238, 2239, 2240, 2241, 2242, 2243, 2244, 2245, 2246, 2247, 1143, 1159], [30, 2248, 2249, 2250, 2251, 1154, 2162, 2252, 2253, 2254, 597, 2255, 2256, 2257, 2258, 2259, 2260, 2132, 2261, 2262, 2263, 2264, 2265, 2266, 2267, 2268, 2269, 2270, 2271, 2272, 2273, 2274, 2275, 2276, 2277, 2278, 2279, 2280, 2281, 2282, 2283, 2284, 2285, 2286, 2287, 2288, 2289, 2290, 2291, 2292, 873, 2293, 2294, 2295, 2296, 1303, 2297, 2298, 2299, 2300, 2301, 2302, 2303, 580, 2304, 2223, 920, 2305, 2306, 2307, 2241, 2308, 2309, 1316, 1136, 473, 2310, 2311, 2312, 2313, 2314, 2315, 621, 2316, 2317, 2318, 2319, 2320, 1478, 1371, 2321, 545, 2322, 2323, 2243, 553, 2324, 2325, 2326, 489, 2327, 2328, 2329, 565, 2330, 1814, 2331, 2332, 2333, 546, 2334, 2335, 2336, 2337, 2338, 2339, 2340, 2341, 1243, 531, 2342, 2343, 604, 2344, 2345, 2346, 2347, 2348, 2349, 2350, 2351, 2352, 1401, 2353, 2354, 2355, 844, 841, 2356, 842, 950], [31, 2357, 2358, 2359, 2360, 2361, 2362, 2363, 2364, 867, 2365, 2366, 2367, 2368, 2369, 2370, 2371, 2372, 2373, 2374], [32, 1649, 1652, 2375, 2376, 2377, 2378, 2379, 1673, 2380, 1658, 2381, 2382, 2383, 2384, 2385, 2386, 2387, 2388, 2389, 2390, 1668, 1670, 2391, 1671, 2392, 2393, 2394, 2395, 1670, 1672, 2396, 2397, 2398], [33, 952, 2399, 2400, 2401, 2402, 577, 2403, 2404, 2405, 2406, 2407, 1256, 1214], [26, 2408, 2306, 912, 1330, 2409, 2410, 2411, 2283, 2412, 2413, 2414, 2415, 2416, 2417, 2418, 2416, 2419, 2420, 2421, 2422, 2423, 2424, 2425, 2426, 2427, 2428, 2077, 2429, 2430, 2431, 2310, 2432, 2433, 2434, 2435, 2436, 2437, 2438], [35, 2439, 2440, 2441, 2442, 2443, 2444, 2445, 2446, 2447, 2448, 2449, 2450, 2451, 2452, 2453, 2454, 2455, 2456, 2457, 2458, 2459, 2460, 2461, 2462, 2463, 2464, 2465, 2466, 2467, 2468, 2469, 2470, 2471, 2472, 2473, 2474, 2475, 2476, 2477, 2478, 2479, 2480, 2481, 2482, 2483, 2484, 2485, 2486, 2487, 2488, 2489, 2490], [36, 2491, 2097, 2492, 2493, 2494, 2495, 2496, 2497, 2498], [37, 2499, 2500, 2501, 2502, 2503, 2504, 2505, 2506, 2507, 2508, 2509, 2510, 2511, 2512, 2513, 2514, 2515, 2516, 2517, 2518, 2519, 2520, 2521, 2522, 2523, 2524, 2525, 2526, 2527, 2528, 2529, 2530, 2531, 2532, 2533, 2534, 2535, 2536, 2537, 2538, 2539, 2540, 2541, 2542, 2543, 2544, 2545, 2546, 2547, 2548, 2549, 2550, 2551, 2552, 2553, 2554, 2555, 2556, 2557, 2558, 2559, 2560, 2528, 2561, 2562, 2563, 2564, 2565, 2566, 2567, 2568, 2569, 2570, 2571, 2572, 2573, 2574, 2575, 2576, 2577, 2578, 2579, 2580, 2581, 2582, 2583, 2584, 2585, 2586, 2587, 2588, 2589, 2590, 2591, 2592, 2593, 2594, 2595, 2596, 2597, 2598, 2599, 2600, 2601, 2602, 2603, 2604, 2605, 2606, 2607, 2608, 2609, 2610, 2611, 2612, 2613, 2614, 2615, 2616, 2617, 2618, 2619, 2620, 2621, 2622, 2623, 2624, 2625, 2626, 2627, 2628, 2629, 2630, 2631, 2632, 2616, 2633, 2634, 2635, 2636, 2637, 2638, 2624, 2639, 2640, 2641, 2642, 2643, 2644, 2645, 2646, 2647, 2643, 2634, 2648, 2649, 2650, 2651, 2652, 2653, 2654, 2636], [38, 1151, 1141, 2655, 2656, 2657, 2658, 2659, 2660, 2661, 2662, 2663, 2664, 2665, 2666, 2667, 2668, 2669, 2670, 2070, 2671, 2672, 2673, 2674, 2675, 2676, 476, 1163, 2677, 2678, 2679, 2491, 2680, 2681, 2682, 2683, 1151, 2684, 1692, 556, 1146, 2685, 1176, 2686, 2687, 2688, 2689, 2690], [39, 2691, 2692, 2693, 2694, 2695, 2696, 2697, 2698, 2699, 2700, 2701, 2702, 2703, 2704, 2705, 2706, 2707, 2708, 2709, 2710, 2709, 2711, 2712, 2713, 2714, 2715, 2716, 2717, 2718, 2719, 2720, 2721, 2722, 2723, 823, 2724, 2725, 2726, 2727, 2728, 2038, 1821, 2729, 2721, 722, 2730, 2731, 2732, 2733, 2734, 1086, 508, 2735, 1124, 2736, 584, 2737, 2738, 2739, 1294, 2740, 2741, 2742, 2743, 2744, 901, 2745, 2746, 2747, 2748, 2749, 2750, 2751, 2752, 2753, 2754, 2755, 2756], [40, 2757, 2758, 2246, 2759, 2760], [41, 2761, 2762, 2763, 2764, 2765, 2766, 2767, 2768, 2769, 2770, 2771, 2772, 2773, 2774, 2775, 2776, 2777, 2778, 2779, 2780, 2781, 2782, 2783, 2784, 2785, 2786, 2787, 2788, 2789, 2790, 2791, 2792, 2793, 2794, 2795, 2796, 2797, 2798, 2799, 2800, 2801, 2802, 2803, 2804, 2805, 2806, 2807, 2808, 2809, 2810, 2811, 2812, 2813, 2814, 2815, 2816, 2817, 2818, 2819, 2820, 2821, 2822, 2823, 2824, 2825, 2826, 2827, 2828, 2829, 2830, 2831, 2832, 2833, 2834, 2835, 2836, 2837, 2838, 2839, 2840, 2841, 2842, 2843, 2844, 2845, 2846, 2847, 2848, 2849, 2850, 2851, 2852, 2853, 2854, 2855, 2856, 2857, 2858, 2859, 2860, 2861, 2862, 2863, 2864, 2865, 2866, 2867, 2868], [42, 2449, 2869, 2461, 2870, 2871, 2872, 2455, 2457, 2873, 2874, 2875, 2449, 2876, 2877, 2463, 2878], [43, 2879, 2880, 2881, 1998, 2882, 2883, 2884, 2885, 2886, 2887, 2888, 2889, 2890, 2891, 2892, 2893, 2894, 606, 2895, 954], [24, 2896, 1990, 2897, 2898, 2899, 2900, 2901, 2902, 2903, 2904, 1974, 2905, 2906, 2907, 2908, 2909, 1976, 2910, 2911, 1977, 2912, 2913, 2117, 2914, 2915, 2916, 2917, 2918, 2919, 2920, 2921, 2922, 2923, 2924, 2925, 2926, 2927, 2928, 2929, 2930, 2931, 2932, 2933, 2934, 2935, 2936, 2937, 2938, 2939, 2940, 2941, 2942, 2943, 2944, 2945, 2946, 2947, 2948, 2949, 2950, 2951, 1981, 2952, 2953, 2954, 2955, 2956, 2957, 2958, 2959, 2960, 2961, 2962, 2963, 2964, 2965, 2966, 2967, 2968, 2969, 2970, 2971, 2972, 2973, 2974, 2975, 2976, 2977, 2978, 2979, 2980, 2981, 2977, 2982, 2983, 2984, 2985, 2986, 2987, 2988, 2989, 2990, 2991, 2992, 2993, 2994, 2995, 2996, 2997, 2998, 2999, 3000, 3001, 3002, 3003, 3004, 3005, 3006, 3007, 3008, 3009, 3010, 3011, 3012, 3013, 3014, 3015, 3016, 3017, 3018, 3019, 3020, 3021, 3022, 3023, 3024, 3025, 3026, 3027, 3028, 3029, 3030, 3031, 3032, 3033, 3034, 3035, 3036, 3037, 3038, 3039, 3040, 3041, 3042, 3043, 3044, 3045, 3046, 3047, 3048, 3049, 3050, 3051, 3052, 3053, 3054, 3055, 3056, 3057, 3058, 3059, 3060, 3061, 3062, 3063, 3064, 3065, 3066], [45, 3067, 644, 841, 3068, 3068, 950, 3069, 3070, 3071, 3072, 3073, 3074, 1642, 3075, 1501, 3076, 3077, 3078, 1606, 3079, 1273, 1272, 3080, 3081, 1108, 3082, 3083, 1533, 862, 3084, 3085, 3086, 3087, 844], [46, 3088, 2241, 1477, 2308, 3089, 2223, 3090, 501, 3091, 2226, 3092, 3093, 2310, 1321, 2433, 1316, 1716, 2242, 1711, 1106, 3094, 3095, 3096, 3097, 3098, 3099, 1777, 3100, 1500, 1478, 464, 3101, 3102, 3103, 3104, 3105, 3106, 1065, 3107, 3108, 525, 3109], [47, 839, 3110, 844, 3111, 3112, 3113, 1576, 1752, 3114, 3115, 842, 3116, 3117, 2120, 3118, 3119, 3120, 1030, 3121, 3122, 3123, 3124, 3125, 3126, 2435, 2355, 3127, 3128, 3129, 3130, 3131, 3132, 3133, 3134, 3135, 3136, 3137, 3138, 942, 3139, 3140, 3141, 3142, 3143, 3144, 2295, 3145, 3146, 3147, 3148, 944, 3149, 3150, 3151, 3152, 3153, 3154, 3155, 3156, 3157, 3158, 3159, 3160, 3161, 3162, 2041, 3163, 3164, 3165, 3164, 3166, 3167, 3168, 3169, 1598, 2399, 1545, 3170, 3171, 3154, 3172, 3173, 3174, 3175, 3176, 3177, 1644, 2321, 3178, 3179, 964, 957, 987, 1613, 3180, 3181, 3182, 3183, 3184, 3185, 3186, 3187, 3188, 3189, 3190], [48, 3191, 3192, 3193, 3194, 3195, 3196, 3197, 3198, 3199, 3200, 3201, 3202, 3203, 3204, 3205, 2042, 3206, 3207, 3208], [49, 3209, 3210, 3211, 3212, 3213, 552, 3214, 3215, 3216, 3217, 3218, 3219, 3220, 3221, 3222, 3223, 3224, 3225, 3226, 3227, 3228, 3229, 3230, 3231, 3232, 1414, 3233, 3234, 3235, 3236, 3237, 3238, 3239, 3240, 3241, 3242, 3243, 3244, 3245, 3246, 1000, 3247, 3248, 3249, 3250, 3251, 3252, 668, 3253, 3254, 3255, 3256, 474, 3257, 915, 3258, 2243, 3259, 3260, 3261, 3262, 3263, 3264, 3265, 3266, 3267, 3268, 3269, 3270, 912, 3271, 1015, 3272, 3273, 3274, 3275, 3276, 3277, 3278, 3279, 3280, 3281, 3282, 3283, 3284, 3285, 3286, 631, 3213], [2, 3287, 3288, 263, 3289, 241, 3290, 3291, 3292, 3293, 3287, 3294, 3295, 3296, 3297, 3298, 3299, 123, 3300, 3150, 3301, 3302, 121, 124, 3303, 3304, 3305, 3306, 3307, 3308, 3309, 157, 155, 3310, 3311, 3312, 3313], [51, 3314, 3315, 3316, 3317, 3318, 3319, 3320, 3321, 3322, 3323, 3324, 3325, 3326, 3327, 3328, 3329, 3330, 3331, 3332, 3333, 3334, 3335, 3336, 3337, 3338, 3339, 3340, 778, 3341, 3342, 3343, 3344, 3345, 3346, 3347, 3348, 3349, 3350, 3351, 3352, 3353, 3354, 3355, 3356, 3357, 3358, 3359, 3360, 3361, 3362, 3363, 3364, 3365, 3366, 3367, 3368, 3369, 3370, 3371, 3372, 3373, 3374, 3375, 3376, 3377, 3378, 3379, 3380, 3381, 3382, 3383, 3384, 3385, 3386, 3387, 3388, 3389, 3390, 3391, 3392, 3393, 3394, 3395, 3396, 3397], [52, 3398, 3399, 3400, 3401, 3402, 3403, 3404, 3405, 3406, 3407, 3408, 3409, 3410, 3411, 3412, 3413, 3414, 3415, 3416, 3417, 3418, 3419, 3420, 3421, 3422, 3423, 3424, 3425, 3426, 3427, 3428, 3429, 3399, 3430, 3431, 3432, 3433, 3434, 3435, 3436, 3437, 3438, 3439, 3440, 3441, 3442, 3443, 3444, 3445, 3446, 3447, 3448, 3449, 3450, 3451, 3452, 3453, 3454, 3455, 3456, 3457, 3458, 3459, 3460, 3461, 3462, 3463, 3464, 3403, 3465, 3466, 3467, 3468, 3454, 3469, 3470, 3471, 3472, 3473, 3474, 3475, 3476, 3477, 3478], [53, 3479, 3480, 3481, 3482, 3483, 1386, 3484, 3485, 3486, 3487, 3488, 3489, 3490, 3491, 3492, 3493, 3494, 3495, 2268, 2175, 3496], [54, 3497, 3498, 3499, 3500, 3501, 3502, 3503, 3504, 3505, 3506, 3507, 3508, 3509, 3510, 3511, 3512, 3513, 3514, 3515, 3516, 3517, 3518, 3519, 3520, 3521, 3522, 3523, 3524, 3525, 3526, 3527, 3528, 3529, 3530, 3531, 3532, 3533, 3534, 1170, 3535, 3536, 3537, 3538, 3539, 3540, 3541, 3542, 3543, 3544, 3545, 3546, 3547, 3548, 3549, 3550, 3551, 3552, 3553, 3554, 3555, 3556, 3557, 3558, 3559, 3560, 3561, 3562, 3563, 2420, 3564, 3557, 3565, 1077, 3566, 3567, 3568, 3569, 3570, 3571, 3572, 3512, 3573, 3574], [55, 3575, 3576, 3577, 3578, 3579, 3580, 3581, 3582, 3583, 3584, 3585, 3586, 3575, 3587, 3588, 3589, 3590, 3591, 3592, 3593, 3594, 3595, 3596, 3597, 3598, 3599, 3600, 3601, 3602, 3603, 3604, 3605, 3606, 3607, 3608, 3577, 3576, 3575, 3609, 3610, 3611, 3612, 3613, 3614, 3615, 3616, 3617, 3618, 3619, 3620, 3621, 3622, 3623, 3624, 3625, 3626, 3627, 3628, 3629, 3630, 3631, 3632, 3633, 3634, 3635, 3636, 3637, 3638, 3639, 3640, 3641, 3642, 3643, 3644, 3645, 3646, 3647, 3648, 3649, 3579, 3616, 3649, 3647, 3648, 3646, 3650, 3651, 3652, 3653, 3654, 3655, 3656, 3657, 3658, 3659, 3660, 3661, 3662, 3663, 3664, 3665, 3666, 3667, 3668, 3669, 3670, 3671, 3672, 3673, 3674, 3675], [56, 3676, 3677, 3678, 3679, 3680, 3681, 3682, 3683, 1478, 3684, 465, 3098, 474, 3685, 2327, 3101, 1344, 3686, 3687, 3688, 3689, 3099, 3690, 3691, 2745, 3692, 535, 3693, 463, 3694, 3695, 3696, 3697, 3698, 3699, 3700, 3701, 2245, 3702, 3703, 474, 3704, 3705, 3706, 3707, 3708, 3709, 3710, 3711, 3712, 3713, 3714, 3715, 3716, 3717, 3718, 3719, 3285, 3720, 3721, 3722, 3723, 2243, 907, 3724, 3725, 3726, 2413, 3727, 3728, 3729, 3730, 3731, 3732, 489, 3733, 3734, 3735, 3120, 3736, 3737, 1034, 3738, 3739, 3740, 3741, 2332, 3742, 3743, 3744, 3745], [57, 3746, 3747, 3748, 3749, 3750, 3751, 3752, 3753, 3754, 3755, 3756, 3757, 3758, 3759, 3760, 3761, 901, 3762, 3763, 3763, 3764, 3765, 3766, 3767, 3768, 3769, 3770, 3771, 3772, 3773], [58, 3774, 3775, 3776, 3777, 3778, 2660, 3779, 2338, 2895, 3780, 3781, 3290, 3782, 3783, 3784, 3785, 3786, 1829, 3780, 3787, 1273, 1272, 3788, 3789, 2297, 3790, 3791, 644, 619, 3792, 3793, 3792, 3794, 3795, 3796, 1157, 3797, 3795, 3798, 3799, 3779, 3800, 3801, 3795, 3802, 3803, 3804, 3805, 3806, 3807, 2889, 3808, 3809, 3810, 3811, 3812, 887, 3813, 818, 3067, 3814, 3815, 3816, 3817, 3818, 1163, 3819, 3820, 3821, 3822, 3823, 3527, 2247, 1143, 241, 3824, 3825, 3826, 3827, 237, 3828, 3829, 2694, 2666, 3830, 3831, 3832, 3833, 3834, 3835, 3803, 3836, 3837, 3838, 3839, 3840, 1137, 818, 3841, 3842, 3843, 3844, 3845, 3846, 3847, 263, 3848, 3849, 3850, 3851, 3852, 818, 3814, 3811, 3853, 3854, 3855, 3856, 3841, 3857, 3858, 2681, 3859, 3859, 3859, 3859, 3859, 3860, 844, 1038, 3861, 2713, 3862, 3863, 3154, 2100, 3864, 3865], [59, 3242, 1405, 3866, 1037, 3867, 3868, 3869, 3870, 3871, 3872, 3873, 3874, 3875, 3876, 3877, 3878, 3879, 3880, 3881, 3882, 3883, 3692, 3884, 3885, 3886, 3887, 3888, 3889, 3890, 3891, 3892, 3893, 3894, 3895, 3896, 3706, 3897, 3898, 3899, 3900, 3901, 3902, 3903, 3904, 3905, 3906, 3907, 3908, 3909, 3910, 3911, 1514, 3912, 3263, 3913, 3914, 3915, 3916, 3917, 3735, 3918, 3919, 3250, 3920, 3921, 3922, 3923, 3924, 3925, 3926, 1719, 3927, 3928, 3929, 3930, 3931, 3932, 3933, 3934, 3935, 1345, 3936, 3937, 3938, 3939], [60, 2723, 3940, 3941, 3942, 3098, 3943, 2243, 464, 3101, 3944, 3686, 3683, 3945, 2245, 3946, 1031], [61, 3947, 3948, 3949, 3950, 3951, 3952, 3953, 3954, 3955, 3956, 3957, 3958, 2278, 3817, 3959, 3960, 3961, 3962, 3963, 2295, 2249, 3964, 3965, 3966, 3967, 2041, 3968, 3969, 3970, 3971, 3972, 3973, 3974, 3975, 3976, 3977, 3978, 3979, 3980, 3981, 3982, 3983, 3984, 3985, 1325, 3986, 3987, 3988, 1316, 3989, 3990, 3951, 3991, 3992, 3993, 3994, 3995, 3996, 3997, 3997, 3998, 3999, 4000, 4001, 4002, 4003, 2322, 2070, 2288, 4004, 4005, 3677, 4006, 1803, 4007, 950, 4008, 4009, 2258, 4010, 4011, 4012, 4013, 4014, 474, 4015, 2055, 991, 4016, 4017, 4018, 4019, 4020, 3980, 3981, 3982, 4021, 4022, 4023, 4024, 4025, 4026, 1741, 4027, 4028, 4029, 4030, 1012, 3120, 4031, 4032, 4033, 4034, 4035, 4036, 461, 4037, 4038, 4039, 4040, 4041, 4042, 858, 2268, 2346, 4043, 4044, 4045, 4046, 4047, 4048, 1519, 4049, 531, 4050, 4051, 2054, 4052, 1638, 4053, 4054, 4055, 4056, 1271, 4057, 4058, 2252, 4059, 2895, 4060, 4061, 4062, 4063, 4064, 844, 1186, 602, 4065, 3180, 4066, 992, 2053, 1533, 4067, 4068, 4069], [62, 4070, 4071, 4072, 4073, 4074, 4075, 4076, 4077, 4078, 4079, 4080, 4081, 4082], [63, 4083, 3708, 4084, 577, 1550, 586, 3683, 3225, 1183, 2331, 4085, 4086, 4087, 951, 1202, 4088, 631, 619, 4089, 4090, 3237, 4091, 1329, 4092, 4093, 4094, 4095, 659, 4096, 854], [64, 3822, 4097, 3849, 4098, 2663, 4099, 4100, 4101, 4102, 4103, 4104, 4105, 4106, 4107, 4108, 4109, 4110, 4111, 4112, 4113, 4114, 4115, 4116, 4117, 4118, 4119, 4120, 4121, 4122, 4123, 3512, 4124, 4125, 4126, 4127, 4128, 4129, 4130, 4131, 4132, 4133, 4134, 4135, 4136, 4137, 4138, 4139, 4140, 4141, 4142, 4143, 4144, 3527, 3852, 4145, 3519, 4146, 4147, 4148, 4149, 4150, 4151, 4152, 4153, 4154, 4155, 4156, 4157, 4158, 4159, 4160, 4161, 4162, 1169, 4163], [65, 4164, 4165, 4166, 4167, 4168, 4169, 4170, 1692, 4171, 4172, 4173, 4174, 4175, 4176, 4177, 4178, 4179, 4180, 4181, 4182, 4183, 4184, 4185, 4186, 4187, 4188, 4189, 4190, 4191, 4192, 2338, 4193, 4194, 4195, 4196, 4197, 4198, 4199, 4200, 4201, 4202, 4203, 4204, 4205, 4206, 4207, 4208, 4209, 4210, 4211, 4212, 4213, 4214, 4215, 4216, 1769, 4217, 4215, 4218, 4219, 4220, 4221, 4222, 4223, 4224, 4225, 4226, 4227, 2704, 4228, 4229, 4230, 4231, 4232, 4233, 4234, 4235, 4236, 4237, 4238, 4239, 4240, 4241, 4242, 4243, 4244, 4245, 4246, 4247, 4248, 4249, 4250, 4251, 2326, 2325, 4252, 4253, 4254, 4255, 4256, 4257, 4258, 4259, 1117, 4260, 4261, 1079, 4262, 4263, 4264, 4265, 4266, 4267, 1695, 4268, 4269, 4270, 4271, 4272, 4273, 4274, 4275, 4276, 4277, 556, 4278, 4279, 4280, 4281, 4282, 4283, 4284, 4285, 4286, 4287, 4288, 4289, 2348], [66, 4290, 4291, 4292, 4293, 4294, 3092, 1477, 4295, 4296, 4297, 4298, 4299, 4300, 4301, 4302, 4303, 4304, 4305, 4306, 4307, 4308, 4309, 4310, 4311, 4312, 1555, 4313, 4314, 4315, 4316, 4317, 4318, 4319, 4320, 4321, 4322, 4323, 875, 4324, 4325, 3080, 4326, 4327, 4328, 4329, 4330, 4331, 4332, 4333, 1689, 4334, 3994, 4335, 4336, 4337, 4338, 4339, 4340, 4341, 4342, 4343, 4344, 4345, 4346, 4347, 4348, 4349, 4350, 4351, 4352, 4353, 4354, 4355, 4356, 4357, 4358, 4359, 2045, 4360, 4361, 4362, 4363, 1481, 1596, 4364, 4365, 886, 3100, 4366, 4367, 4368, 4369, 4370, 4371, 4372, 4373, 4374, 4375, 4376, 4377, 4378, 4379, 4380, 4381, 4382, 4383, 4384, 4385, 4007, 4386, 4387, 4388, 4389, 4390, 4391, 4392, 4393, 4394, 4395, 4359, 4396, 4397, 4398, 4399, 4400, 4401, 3873, 4402, 4357, 1597, 1481, 4403, 4404, 4405, 4319, 4406, 869, 4407, 4408, 4409, 4410, 4411, 4412, 4413, 887, 877, 4414, 4415, 4416, 875, 4417, 1757, 4418, 4419, 4420, 4421, 4422, 4423, 4424, 4425, 4426, 4427, 1683, 960, 4428, 4429, 4430, 4431, 4432, 4433, 4434, 4435, 4436, 4437, 4438, 4439, 4440, 4441, 4442, 4443, 4444, 4445, 4446, 4447, 4448, 4449, 4450, 4451, 4452, 4453, 4454, 4455, 4456, 4457, 4458, 4459, 4460, 4461, 4462, 4463, 4464, 4465, 4466, 4467, 1711, 4468, 4469, 2050], [24, 1990, 1968, 4470, 4471, 4472, 4473, 4474, 4475, 4476, 4477, 4478, 4479, 2959, 1967, 1966, 4480, 4481, 4482, 4483, 4484], [68, 4485, 4486, 4487, 4488, 4489, 4490, 4491, 3279, 4492, 4493, 4494, 4495, 4496, 2080, 2170, 4497, 4424, 1764], [69, 3187, 1687, 1173, 4498, 2202, 4499, 4500, 4501, 2419, 4502, 2155, 4503, 4504, 2666, 4505, 4506, 1117, 4507, 2689, 4508, 4509, 4510, 3845, 3774, 4511, 4512, 2698, 3523, 4513, 1141, 1168, 1163, 2681, 4146, 1164, 3853, 3837, 2694, 4514, 4515, 4516, 4517, 4518, 1143, 4519, 4520, 1144, 4521, 4522, 1720, 4523, 2753, 4524, 4525, 4364, 2016, 2805, 1161, 3571, 4526, 4527, 1171, 4528, 4529, 1691, 4530, 4531, 4532, 4533, 1743, 4534, 4535, 4536, 4537, 4538, 3803, 2737, 4539, 2668, 4540, 4541, 1147, 4542, 4543], [70, 4544, 4545, 4546, 4547, 4548, 4549, 4550, 4551, 4552, 4553], [71, 4554, 3948, 4555, 4047, 4556, 4047, 2416, 4557, 4558, 4559, 4560, 1075, 4561, 4562, 4563, 4564, 4565, 4566, 2299, 4567, 3971, 4568, 3951, 4569, 3962, 4570, 4571, 1313, 4572, 4573, 4574, 4575, 4576, 2108, 2466, 4577, 4578, 4579, 4580, 4581, 4582, 4583, 4584, 4585, 4586, 4587, 4588, 4589, 4590, 4591, 4592, 3982, 4593, 4594, 4595, 4596, 4597, 4598, 4599, 4600, 4601, 4602, 4603, 3142, 4604, 4605, 4606, 3710, 4607, 4608, 4609, 4610, 4611, 4612, 4613, 4614, 4615, 4616, 4617, 2255, 4618, 4619, 4620, 3949, 1837, 4621, 2295, 3731, 489, 535, 4622, 4623, 4624, 4625, 4626, 4627, 4029, 4628, 4629, 4630, 3693, 4631, 2333, 531, 4632, 4633, 4634, 4635, 4636, 4637, 4638, 4639, 4640, 2245, 4641, 474, 4642, 593, 545, 4643, 4644, 4645, 4646, 4647, 4648, 4649, 4650, 4651, 4652, 4653, 4654, 4655, 4656, 4657, 4658, 4659], [72, 1117, 4660, 4306, 1280, 4661, 4662, 4663, 4664, 4665, 4666, 1124, 4667, 4668, 4669, 4670, 4671, 4672, 4673, 4674, 4675, 2236, 1743, 2703, 4676, 4677, 2352, 1170, 1151, 1161, 4678, 4679, 4680, 4505, 4513, 4681, 4682, 4683, 4241, 4684, 4243, 4685, 4686, 4687, 4688, 4689, 4690, 4691, 4692, 4693, 2702, 2658, 4694, 4695, 4696, 4499, 2149, 4697, 4698, 4529, 4699, 4498, 4700, 4701, 4702, 4703, 4704, 4705, 4706, 4707, 4708, 4709, 4710, 4711, 4712, 4270, 1695, 4713, 4714, 2711, 4715, 1692, 4716, 4717, 4718, 4719, 4720, 4721, 4722, 2155, 4723, 4504, 2100, 4724, 4725, 4726, 4727, 4728, 4729, 4730, 4731, 4732, 2268, 4733, 4734, 4735, 4736, 4737, 3806, 4738, 2690, 4739, 4740, 1755, 4741, 4742, 2288, 4509, 4743, 2723, 4744, 4745, 4746, 4747, 2496, 4748, 4749, 1720, 4750, 4751, 4752, 4753, 4754, 4755, 4756, 4757, 2014, 4758, 4759, 4760, 4761, 4762, 4763, 1314, 4764, 1321, 4765, 4766, 3130, 2744, 4767, 4768, 4769, 4770, 4771, 4772, 912, 4773, 4774, 4775, 3797, 4776, 4777, 4778, 4779, 4780, 4781, 4782, 2853, 2769, 4783, 4784, 4785, 4786, 2847, 4787, 4788, 4789, 4790, 4791, 4780, 4792, 2016, 4793, 4794], [73, 4795, 4796, 4797, 4798, 1154, 918, 4799, 1757, 1095, 4800, 4801, 2012, 4802, 4803, 4804, 4805, 4806, 4807, 2095, 2260, 4808, 4809, 4810, 4811, 4812, 4813, 4814, 4815, 2330, 3187, 1273, 4816, 3120, 1183, 1272, 4096, 845, 4817, 4818, 4819, 4820, 4821, 839, 1828], [74, 4822, 3783, 1141, 4823, 4528, 4518, 4824, 4825, 4826, 2019, 2681, 4518, 4827, 4828, 3840, 4829, 4830, 4831, 1122, 4832, 4499, 2829, 815, 3783, 2698, 4833, 4834, 4279, 4835, 4836, 4837, 4838, 4839, 4699, 4840, 4512, 4841, 4842, 2278, 4843, 4844, 4845, 4769, 4614, 4846, 4847, 4848, 4849, 4850, 4851, 4852, 4853, 4825, 4854, 4708, 4855, 4856, 4857, 4858, 4859, 4860, 4861, 4862, 4863, 4864, 4865, 4534, 2352, 4866, 4867, 4868, 4869, 4870, 4871, 4872, 4873, 4874, 4875, 4876, 4877, 4878, 4879, 4880, 4881, 4882, 4842, 4883, 4884, 4885, 4886, 4887, 4888, 4889, 4890, 4891, 4892, 4893, 2349, 4894, 4895, 4896, 4897, 4898, 4899, 4900, 4901, 4902, 4903, 4904, 4905, 4906, 4907, 4908, 4829, 4909, 4910, 4911, 4912, 4913, 2689, 4914, 4745, 1122, 4915, 4916, 4917, 4830, 4918, 4538, 3803, 4919, 4687, 815, 4920, 4831, 4832, 3839, 4921, 4922, 4923, 4146, 4678, 4924, 4925, 4926, 4927, 4928, 4929, 4930, 4931, 4542, 4932, 4933, 4934, 4935, 4936, 4937, 4938, 2737, 4939, 4940, 4941, 4936, 4942, 4943, 4944, 4945], [75, 4946, 4947, 4948, 4949, 4950, 4951, 4952, 4953, 4954, 4955, 4956, 4829, 4957, 4958, 4959, 4960, 4961, 4962, 4963, 4964, 4965, 4966, 4967, 4968, 4969, 4970, 4971, 4972, 4973, 4974, 4975, 4692, 4976, 4977, 4978, 4979, 4980, 4981, 4982, 4983, 4984, 1122, 4985, 4986, 4987, 4988, 4989, 4990, 4991, 2673, 4992, 4993, 4994, 4995, 4996, 4997, 4998, 4999, 5000, 5001, 2575, 5002, 5003, 5004, 5005, 5006, 5007, 5008, 3801, 2836, 5009, 5010, 5011, 5012, 5013, 5014, 5015, 5016, 5017, 4749, 5018, 2254, 2149, 1276, 5019, 4284, 1159, 5020, 5021, 1171, 5022, 5023, 5024, 5025, 5026, 2168, 5027, 1173, 1120, 5028, 5029, 5030, 916, 5031, 5032, 5033, 5034, 5035, 5036, 4963, 2683, 5037, 5038, 5039, 5040, 5041, 5042, 5043, 5044, 5045, 5046, 2674, 5047, 5048, 5049, 5050, 5051, 4511, 5052, 4699, 5053, 5054, 2303, 5055, 5056, 5057, 5058, 3806, 5059, 5060, 5061, 4322, 5062], [76, 5063, 5064, 5065, 5066, 5067, 5068, 5069, 5070, 5071, 5072, 5073, 4730, 5074, 5075, 5076, 3481, 5077, 5078, 5079, 5080, 5081, 5082, 5083, 5084, 5085, 5086, 4741, 5087, 5088, 4213, 5089, 5090, 5091, 5092, 5093, 5094, 5095, 5096, 5097, 5098, 5099, 5100, 4596, 3951, 4607, 5101, 5102, 5103, 5104, 5105, 5106, 5107, 5108, 5109], [77, 607, 5110, 5111, 5112, 5113, 5114, 5115, 5116, 5117, 5118, 5119, 5120, 5121, 5122, 5123, 5124, 5125, 4536, 1555, 5126, 5127, 5128], [78, 5129, 5130, 2035, 5131, 5132, 1229, 1475, 5133, 3079, 948, 5134, 5135, 5136, 5137, 3078, 859, 4423, 5138, 2074, 2272, 3083, 5139, 5140], [79, 5141, 5142, 5143, 5144, 5145, 5146, 5147, 5148, 5149, 5150, 5151, 5152, 5153, 5154, 5155, 5156, 5157, 5158, 5159, 5160, 5161, 5162, 5163], [80, 2436, 5164, 5165, 5166, 4743, 5167, 2603, 5168, 5169, 5170, 5171, 5172, 5173, 5174, 5175, 5176, 5177, 5178, 5179, 5180, 5181, 5182, 5183, 5184, 5185, 5186, 5187, 5188, 5189, 5190, 5191, 5192, 5193, 5194, 5195, 5196, 5197, 5198, 5199, 5200, 5201, 5202, 5203, 5204, 5205, 5206, 5207, 5208, 5209, 5210, 918, 5211, 5212, 5213, 5214, 5215, 5216, 5217, 5218, 5219, 5220, 1763, 5221], [81, 5222, 5223, 5224, 5225, 5226, 5227, 5228, 5229, 5230, 5231, 5232, 5233, 5234, 5235, 5236, 5237, 5238, 5239, 5240, 5241, 5242, 5243, 5244, 5245, 1667, 5246, 5247, 5248, 5249, 5250], [82, 5251, 5252, 5253, 4215, 4242, 5254, 4243, 4241, 5255, 4614, 5256, 5257, 2659, 4698, 5258, 4976, 4973, 5259, 5260, 5261, 5262, 5263, 4484, 2229, 5264], [83, 1642, 633, 5265, 5266, 5267, 5268, 5269, 5270, 3176, 5271, 5272, 5273, 5274, 517, 5275, 5276], [41, 5277, 5278, 5279, 2771, 5280, 5281, 5282, 2786, 5283, 5284, 2831, 2834, 5285], [85, 856, 5286, 5287, 839, 5288, 619, 5289, 5290, 5291, 5292, 5293, 5294, 1322, 5295, 2433, 5296, 4367, 5297, 5298, 3695, 5299, 5300, 5301, 5302, 5303, 5304, 5305, 5306, 5307, 5308, 5309, 5310, 643, 3110, 848, 5311, 2158, 5312, 5313, 2150, 5314, 5315, 5316, 5317, 5318, 5319, 5320, 5321, 5322, 865, 5323, 5324, 5325, 5326, 5327], [86, 5328, 5329, 5330, 5331, 4182, 5332, 5333, 5334, 4736, 5335, 5336, 5337, 5338, 5339, 5340, 5341, 5342, 5343, 5344, 5345, 5346, 5347, 5348, 5349, 5350, 5351, 5352, 5353, 5354, 5355, 5356, 5357, 5358, 5359, 5360, 5361, 5362, 5363, 5364, 5365, 5366, 5367, 5368, 5369, 5370, 5371, 5372, 5373, 5374, 5375, 5376, 5377, 4270, 1694, 5378, 5379, 4267, 5380, 5381, 5382, 5383, 5384, 5385, 5386, 5387, 5388, 5389, 5390, 5391, 5392, 5393, 5394, 5395, 4202, 5396, 2173, 5397, 5398, 5399, 5400, 5401, 5402, 5403, 5404, 5405, 5406, 5407, 5408, 5409, 5410, 5411, 5412, 5413, 4274, 5414, 5415, 5416, 5417, 5418, 5419, 5420, 4717, 5421, 5422, 5423, 5424, 5425, 1691, 5426, 5427, 5428, 5429, 2008, 1771, 4706, 5430, 5431, 5432, 5433, 5434, 4201, 5435, 4185, 5436, 5437, 5438, 5439, 5440, 5441, 5442, 5443, 5444, 5445, 5446, 5447, 5448, 5449, 5450, 5451, 4524, 5452, 5453, 5454], [87, 5455, 5456, 5457, 5458, 5459, 5460, 5461, 5462, 5463, 5464, 5465, 5466, 5391, 5467, 5468], [88, 5469, 5470, 5471, 4699, 2436, 5472, 5473, 2086, 4815, 4502, 2202], [89, 2673, 5474, 5475, 5476, 5477, 5478, 5479, 5480, 5481, 5482, 5483, 5484, 5485, 2424, 5486, 5487, 5488, 5489, 5490, 3330, 5491, 5492, 5493, 1352, 5494, 4919, 5495, 5496, 5497, 5498, 2420, 3557, 4624, 5499, 5500, 5501, 5502, 4943, 5503, 5504, 5505, 5506, 5507, 5508, 5080, 3481, 4615, 5509, 5510, 2112, 5511, 5512, 5513, 5514, 5515, 5516, 5517, 5518, 5519, 5520, 5521, 4605, 5522, 5523, 5524, 5525, 5526, 5527, 5528, 5529, 5530, 5531], [90, 5532, 5533, 5534, 5535, 5536, 2321, 3067, 5537, 1108, 1606, 5538, 851, 5286, 839], [65, 3839, 4937, 5539, 4745, 5540, 5541, 5542, 5543, 5544, 4536, 1141, 5545, 3803, 5546, 5547, 5548, 1363, 5549, 5550, 5551, 4528, 5552, 4515, 5553], [92, 5554, 5555, 601, 1122, 2491, 2496, 5556, 4986, 5557, 3997, 2798, 5558, 5559, 2827, 5560, 5561, 2492, 2777, 2077, 1082, 4799, 5562, 5563, 5564, 5565, 2663, 3970, 5566, 5567, 5568, 5569, 5570, 5571, 5572, 5573, 5574, 5575, 5576, 5577, 5578, 5579, 5580, 5581, 5582, 5583, 5584, 5585, 3853, 5586, 5587, 5588, 5589, 5590, 5591], [71, 5592, 2436, 1778, 5593, 4743, 4743, 2086, 5594, 5595, 5596, 5597, 5164, 1684, 5598, 5599, 5600, 5601, 5602, 1160, 5183, 5603, 5604, 5605, 5606, 5607, 5608, 5609, 5602, 5610, 5611, 4364, 5612, 5613, 4815, 5614, 5615, 5616, 5617, 5595, 5608, 5607, 5618, 5619, 5620, 5621, 2075, 5622, 2177, 5623], [94, 5624, 5625, 5626, 611, 5627, 460, 459, 456, 5628, 868, 5629, 5630, 5631, 5632, 5633, 5634, 5635, 618, 5636, 5637, 5638, 5639, 5640, 5641, 5642, 5643, 628, 5644, 5645, 5646, 5647], [95, 5648, 5649, 5650, 5651, 5652, 5653, 5654, 5655, 768, 795, 797, 2229, 472, 3353, 523, 5656, 5657, 4857, 5658, 5659, 4513], [96, 5660, 2428, 5661, 5662, 5015, 5663, 5664, 5665, 5666, 5667, 5668, 5669, 2828, 5670, 5671, 2820, 5672, 5518, 5673, 3998, 5674, 5675, 5676, 2802, 5677, 5678, 5679, 5680, 5681, 5682, 2824, 5683, 5037, 2793, 2777, 5684, 5685, 5686, 2783, 5687, 5688, 5689, 5690, 5691, 5692, 5514, 5693, 5694, 5695, 5696, 5045, 5697, 5698, 5699, 2785, 5700, 5701, 5702, 4784, 5703, 4780, 5704, 2858, 5705, 5706, 5707, 5708, 5709, 5710, 5711, 4790, 5712, 5713, 5714, 5715, 5716, 5717, 5718], [97, 5719, 5720, 5721, 5722, 5723, 5724, 5725, 5719, 5726, 5727, 5728, 5729, 5730, 5731, 5732, 5733, 5734, 5735, 5736, 5737, 5738, 5739, 5740, 5741, 5742, 5743, 5744, 5743, 5745, 5746, 5747, 5748, 5749, 5749, 5750, 5751, 5752, 5753, 5754, 5755, 5756, 5757, 5758, 5757, 5759, 5760, 5761, 5762, 5763, 5764, 5765, 5766, 5767, 5768, 5769, 5770, 5771, 5772, 5773, 5774, 5775, 5776, 5777, 5778, 5779, 5780, 5781, 5782, 5783, 5784, 5785, 5786, 5787, 5788, 5789, 5790, 5791, 5792, 5789, 5793, 5794, 5786, 5795, 5796, 5797, 5798], [41, 5799, 5800, 5801, 5802, 5037, 5706, 5678, 5679, 5803, 4793, 5667, 5804, 5805, 5806, 5807, 5808, 5809, 5810, 4789, 5811, 5812, 5813, 5814, 2824, 5708, 5815, 5816, 5660, 2790, 2076, 5518, 5817, 5818, 5819, 5820, 5281, 5670, 2147, 5821, 5822, 5823, 5824, 5825, 5810, 5826, 5827, 5037, 2811, 5828, 5829, 5830, 5831, 5832, 5833, 5834, 5835, 5836, 5837, 5838, 5839, 5840, 5841, 5842, 5843, 5844, 5845, 5702, 4784, 3953, 2796, 5846, 5847, 5848, 4781, 5849, 5850, 5851, 2807, 5852, 5853, 4787, 5854, 5855, 5710, 5855, 4780, 4792, 5856, 5857, 5848, 2428, 2077, 3962, 5858, 5859, 5860, 5861, 4782, 5686, 5862, 5863, 5864, 5705, 4784, 4783, 3990, 3990, 5717, 5865, 5866, 4006, 4006, 5867, 5868, 4036, 4055, 5869, 5870, 5871, 5872, 4034, 5873, 5713, 5874, 5875, 4791, 5876, 5877, 5878, 5879, 4054, 5880, 5881, 5882, 5883, 5884, 5885, 5886, 2833, 5887, 2831, 2832, 5888, 5889, 5887, 5890, 5891, 5892, 5893, 5894, 5895, 5896, 5897, 5898, 5899, 5900, 5901, 5902, 5903, 5904, 5905, 5906, 5907, 5908, 5909, 5910, 5911, 5912, 5913, 5914, 5915, 5916, 5917, 5918, 5919, 5920, 5921], [99, 5922, 5923, 2668, 5469, 5924, 5925, 5926, 5923, 5927, 4878, 5928, 5929, 4879, 5930, 5931, 5932, 5933, 4928, 4675, 5930, 4928, 5934, 5935, 5936, 4862, 5020, 5937], [40, 5938, 1149, 5939, 5940, 5941, 5942, 5943, 5944, 5945, 5946, 887, 5947, 5948, 5949, 5950, 5951, 5952, 5953, 5954, 515, 5955, 5956, 5957, 5958, 5959, 5960, 5961, 5962, 5963, 5964, 5965, 5966, 5967, 859, 847, 1697, 2347, 845, 5968], [101, 5969, 2048, 5937, 5970, 5971, 1164, 5972, 5973, 5974, 2796, 5975, 2876, 5976, 5977, 5978, 5672, 3203, 5979, 5980, 1163, 5981, 5982, 5983, 5984, 5985, 5986, 5987, 5670, 4527, 5988, 5989, 3823, 5990, 4305, 5991, 5992, 5993, 5994, 5277, 5995, 5996, 5997, 5998, 4743, 5999, 6000, 4514, 6001, 6002, 6003, 2748, 6004, 6005, 6006, 6007, 6008]]\n",
    "#X_test = [[2]]\n",
    "\n",
    "# Trial test for 2 files\n",
    "#X_test = [[2, 1246, 1247, 1248, 1249, 1250, 1251, 1252, 1253, 1254, 1255, 1256, 1257, 1258]]\n",
    "          \n",
    "          \n",
    "# Trial test for 1000-1999 full batch\n",
    "#X_test = [[9], [2], [2, 712,713], [9, 1560, 1561, 1562, 1563, 1480, 1564, 1565, 1566, 1567, 1462, 1568, 1569, 1570, 1571, 1572, 1573, 1574, 1575, 1576, 1577, 1578, 1579, 1201, 1580, 1581, 1582, 1583, 1584, 1195, 1585, 1586, 1587, 1477, 1588, 1589, 1590, 1591, 1592, 1593, 1594, 1595, 1596, 1597, 1598, 1599, 1600, 1601, 1602, 1603, 1476, 1604, 1605, 1606, 1607, 1608, 1609, 1610, 1611], [1000, 7940, 36880, 3303, 5156, 6692, 5152, 36881, 2370, 5127, 13157, 13168, 3768, 5449, 17029, 3112, 3315, 5128, 2970, 10713, 2943, 4869, 5153, 1781, 13125, 2637, 5358, 5119, 3804, 22150], [1001, 4784, 4785, 6844, 5423, 22235, 36882, 1208, 21492, 4923, 7668, 36883, 7968, 36884, 36885, 24623, 36886]]\n",
    "#X_test = [[2, 712, 713, 714, 715, 716, 717, 718, 719, 720, 721, 722, 723, 724, 725, 726, 727]] #, 728, 729, 730, 731, 732, 733, 734, 735, 736, 737, 738, 739, 740, 741, 742, 743, 744, 741, 742, 739, 738, 745, 746, 747, 748, 749, 750, 751, 752, 753, 754, 755, 756, 757, 758, 759, 760, 761, 762, 763, 764, 765, 766, 767, 768, 769, 770, 771, 772, 773, 774, 775, 776, 777, 778, 779, 780, 781, 782, 783, 784, 785, 786, 787, 788, 789, 790, 791, 792, 793, 794, 795, 796, 797, 798, 799, 800, 801, 802, 803, 804, 805]]\n",
    "# Weird smallest test\n",
    "#X_train = [[1,2,3,4,5], [6,7,8,9, 10, 11,12,13], [14,15,16,17,18,19,20], [21,22,23,24,25,26,27], [28, 29, 30, 31,32,33,34,35]]\n",
    "#X_test = [[1,2], [3,4,5],  [6,7,8,9], [10, 11,12], [18,19], [21,22,23,24], [28, 30, 33]]\n",
    "\n",
    "\n",
    "# Sleep test\n",
    "X_test_orig = X_test\n",
    "\n",
    "#print X_test_orig"
   ]
  },
  {
   "cell_type": "markdown",
   "metadata": {},
   "source": [
    "## Running the predictions "
   ]
  },
  {
   "cell_type": "code",
   "execution_count": 58,
   "metadata": {
    "collapsed": true
   },
   "outputs": [],
   "source": [
    "## Running the predictions\n",
    "batch = X_test\n",
    "batch_size = 1\n",
    "\n",
    "def next_feed_test(index):\n",
    "    encoder_inputs_, encoder_input_lengths_ = helpers.batch(batch[index*batch_size: (index+1)*batch_size])\n",
    "    decoder_targets_, _ = helpers.batch(\n",
    "        [(sequence[1:len(sequence)]) + [EOS] + [PAD]*2 for sequence in batch]\n",
    "    )\n",
    "    return {\n",
    "        encoder_inputs: encoder_inputs_,\n",
    "        encoder_inputs_length: encoder_input_lengths_,\n",
    "        decoder_targets: decoder_targets_,\n",
    "    }\n",
    "\n",
    "def gen_batch_from_sample(x_input):\n",
    "    encoder_inputs_, encoder_input_lengths_ = helpers.batch(x_input)\n",
    "    decoder_targets_, _ = helpers.batch(\n",
    "        [(sequence[1:len(sequence)]) + [EOS] + [PAD]*2 for sequence in x_input]\n",
    "    )\n",
    "    return {\n",
    "        encoder_inputs: encoder_inputs_,\n",
    "        encoder_inputs_length: encoder_input_lengths_,\n",
    "        decoder_targets: decoder_targets_,\n",
    "    }\n",
    "\n",
    "#fd = next_feed_test(0)"
   ]
  },
  {
   "cell_type": "code",
   "execution_count": null,
   "metadata": {},
   "outputs": [],
   "source": [
    "predicted_sequence = []\n",
    "\n",
    "for index in range (len(X_test)/batch_size):\n",
    "    fd = next_feed_test(index)\n",
    "    \n",
    "    predict_ = sess.run(decoder_prediction, fd)\n",
    "    \n",
    "    for i, (inp, pred) in enumerate(zip(fd[encoder_inputs].T, predict_.T)):\n",
    "        print('  sample {}:'.format(index + 1))\n",
    "        print('    input     > {}'.format(inp))\n",
    "        print('    predicted > {}'.format(pred))\n",
    "    predicted_sequence.append(predict_.T[0])"
   ]
  },
  {
   "cell_type": "code",
   "execution_count": null,
   "metadata": {},
   "outputs": [],
   "source": [
    "print len(predicted_sequence[0])"
   ]
  },
  {
   "cell_type": "markdown",
   "metadata": {},
   "source": [
    "## Methods to feed the predictions generated back as a input sequence and get more predictions"
   ]
  },
  {
   "cell_type": "code",
   "execution_count": null,
   "metadata": {},
   "outputs": [
    {
     "name": "stdout",
     "output_type": "stream",
     "text": [
      "sachin debug [[  859]\n",
      " [ 9369]\n",
      " [33939]\n",
      " [13981]\n",
      " [16020]\n",
      " [16349]\n",
      " [ 5685]\n",
      " [12768]\n",
      " [  773]\n",
      " [  729]\n",
      " [  773]\n",
      " [  729]\n",
      " [  773]\n",
      " [  729]\n",
      " [  773]\n",
      " [  729]\n",
      " [  773]\n",
      " [  729]\n",
      " [  773]]\n",
      "[2, 712, 713, 714, 715, 716, 717, 718, 719, 720, 721, 722, 723, 724, 725, 726, 727, 859, 9369, 33939, 13981, 16020, 16349, 5685, 12768, 773, 729, 773, 729, 773, 729, 773, 729, 773, 729, 773]\n"
     ]
    }
   ],
   "source": [
    "from collections import OrderedDict\n",
    "\n",
    "prediction_matrix = []\n",
    "for index in range (len(X_test)/batch_size):\n",
    "    fd = next_feed_test(index)\n",
    "    #print fd\n",
    "    \n",
    "    predict_ = sess.run(decoder_prediction, fd)\n",
    "    print \"sachin debug\", predict_\n",
    "    \n",
    "    # trying to generate 500 predictions\n",
    "    \n",
    "    orig_test_seq =  X_test[index] + predict_.reshape(len(predict_),).tolist()\n",
    "    #print \"sac\", orig_test_seq, X_test[index][1:len(X_test[index])]\n",
    "    play_list_seq = list(range(0, len(set(play_list_names))+1))\n",
    "    test_seq = orig_test_seq\n",
    "\n",
    "    \n",
    "    count = 0\n",
    "    while((len(set(test_seq)) != 500) and (len(set(orig_test_seq)) != 500)):\n",
    "        # Removing the duplicates\n",
    "        test_seq = list(OrderedDict.fromkeys(test_seq))\n",
    "        # Removing the EOS and PAD\n",
    "        test_seq = [x for x in test_seq if x not in [0,1]]\n",
    "        \n",
    "        fd_input = X_test[index] + [x for x in test_seq if x not in X_test[index]]\n",
    "        \n",
    "        fd_test = gen_batch_from_sample([fd_input])\n",
    "        predict_ = sess.run(decoder_prediction, fd_test)\n",
    "        local_prediction = predict_.reshape(len(predict_),).tolist()\n",
    "        orig_test_seq +=  [x for x in local_prediction if x not in orig_test_seq]\n",
    "        #print \"iter\", count, test_seq, orig_test_seq\n",
    "        test_seq = orig_test_seq\n",
    "\n",
    "        count += 1\n",
    "        if(count == 100):\n",
    "            break\n",
    "    \n",
    "    local_prediction = predict_.reshape(len(predict_),).tolist()\n",
    "    orig_test_seq +=  [x for x in local_prediction if x not in orig_test_seq]\n",
    "    \n",
    "    \n",
    "    seq_list = list(OrderedDict.fromkeys(orig_test_seq))\n",
    "    \n",
    "    seq_list = [x for x in seq_list if x not in play_list_seq]\n",
    "    \n",
    "    # Change\n",
    "    seq_list = [x for x in seq_list if x not in X_test[index]]\n",
    "    prediction_matrix.append(seq_list)\n",
    "    "
   ]
  },
  {
   "cell_type": "code",
   "execution_count": 38,
   "metadata": {},
   "outputs": [
    {
     "name": "stdout",
     "output_type": "stream",
     "text": [
      "Predicted sequence: 0\n",
      "Photograph, Love Is an Open Door, 7 Years, Wish You Were Here, I've Got a Dream - From \"Tangled\"/Soundtrack Version, You'll Be In My Heart, Does Ya Mama Know? (Dance Like That) #HEYNOW, Poor Unfortunate Souls - Broadway Cast Recording, Sorry, Where Are Ü Now (with Justin Bieber), Vroom Vroom, Applause, Come Together, Wildest Moments, Ghostbusters, When You're An Addams, Lucky, Dog Days Are Over, Dancing Through Life - From \"Wicked\" Original Broadway Cast Recording/2003, I've Never Felt So Good, Gold Angel - Savoir Adore Remix, C'Mon, Do I Wanna Know?, Friends on the Other Side - From \"The Princess and the Frog\" / Soundtrack Version, Breathe, Born For This, You Got Worked (feat. Mateo Senolia) [CASAMENA Stripped Remix] - Mixed, Ils appellent ça, Kif'n'dir, Positoovity - Broadway Cast Recording, Kiss the Girl - From \"The Little Mermaid\"/Soundtrack Version, Closer, Cheerleader, C.O.U.N.T.R.Y., It's My Life, Diss Me, Doin' it Right, Still Want You, Devil Eyes, The World Above (Reprise) - Broadway Cast Recording, Sweet Child - Broadway Cast Recording, All Creatures, You're Going Down, Green Light, Big Men in the Sky, They Are All In Love, Coffee, This Is War, Menswear, Vice Grip, A Whole New World, This Is The Last Time, Say You'll Be There, Silence in Me, Trndsttr (feat. M. Maggie) - Lucian Remix, Miracles, No More Mr. Nice Guy, Yours (Glory and Praise) [Acoustic], Good Life (with G-Eazy & Kehlani), Do It Big (feat. Bad Lucc, Sage The Gemini), Last Resort, Somebody That I Used To Know, Raging, Magic Carpet/Parting The Seas, One Jump Ahead (Reprise), Lean On (feat. MØ & DJ Snake), Hand on My Gat, 7/11, Circle Of Life - From \"The Lion King\"/Soundtrack, A Million Miles Away, Home, Part of Your World (Reprise) - From \"The Little Mermaid\"/ Soundtrack Version, Prince Ali (Sultan Reprise), On Top Of The World, Belle, Twist And Shout - Remastered 2009, Ella No Cree En El Amor, Riptide, Come On Eileen, Formidable, Hear The Sound, Ladies and Gentlemen We Are Floating in Space, I'll Make a Man Out of You - From \"Mulan\"/Soundtrack, One Step Closer - Broadway Cast Recording, Can't Sleep Love, Sunrise, Haven't Met You Yet, Ginza, Defying Gravity - From \"Wicked\" Original Broadway Cast Recording/2003, Courtesy Call, Best Light\n",
      "\n",
      "\n",
      "[14360, 13277, 3805, 15906, 13278, 773, 16026, 726, 1536, 1535, 16020, 7901, 13248, 3035, 14612, 14620, 12847, 3341, 17555, 3864, 13640, 13023, 2004, 29504, 30560, 10447, 10015, 28781, 28782, 727, 738, 2861, 16244, 7502, 11650, 9541, 1315, 14160, 1660, 722, 725, 10863, 6004, 1222, 24153, 28659, 2001, 29707, 28201, 5960, 859, 16182, 17113, 33939, 1633, 14904, 14615, 10825, 1850, 7888, 5336, 1324, 3902, 846, 857, 1534, 8835, 1538, 3911, 755, 5131, 740, 764, 7632, 800, 13144, 13433, 3037, 1094, 20403, 10856, 25127, 3908, 729, 5675, 5683, 14131, 5828, 22077, 5972, 13639]\n"
     ]
    }
   ],
   "source": [
    "for i in range(0, len(prediction_matrix)):\n",
    "    song_names = [uri_dict[x][1] for x in prediction_matrix[i]]\n",
    "    song_names = map(lambda x:x.encode(\"utf-8\"), song_names)\n",
    "    print \"Predicted sequence:\", i\n",
    "    print \", \".join(song_names)\n",
    "    print \"\\n\"\n",
    "    print prediction_matrix[i]"
   ]
  },
  {
   "cell_type": "markdown",
   "metadata": {
    "collapsed": true,
    "scrolled": false
   },
   "source": [
    "## Precision metrics computation (R-Precision and NDCG)"
   ]
  },
  {
   "cell_type": "code",
   "execution_count": 40,
   "metadata": {
    "collapsed": true
   },
   "outputs": [],
   "source": [
    "## R-Precision\n",
    "def r_precision(r):\n",
    "    \"\"\"Score is precision after all relevant documents have been retrieved\n",
    "    Relevance is binary (nonzero is relevant).\n",
    "    >>> r = [0, 0, 1]\n",
    "    >>> r_precision(r)\n",
    "    0.33333333333333331\n",
    "    >>> r = [0, 1, 0]\n",
    "    >>> r_precision(r)\n",
    "    0.5\n",
    "    >>> r = [1, 0, 0]\n",
    "    >>> r_precision(r)\n",
    "    1.0\n",
    "    Args:\n",
    "        r: Relevance scores (list or numpy) in rank order\n",
    "            (first element is the first item)\n",
    "    Returns:\n",
    "        R Precision\n",
    "    \"\"\"\n",
    "    r = np.asarray(r) != 0\n",
    "    z = r.nonzero()[0]\n",
    "    if not z.size:\n",
    "        return 0.\n",
    "    return np.mean(r[:z[-1] + 1])\n",
    "\n",
    "## DCG computation\n",
    "def dcg_at_k(r, k):\n",
    "    r = np.asfarray(r)[:k]\n",
    "    if r.size:\n",
    "        return np.sum(np.subtract(np.power(2, r), 1) / np.log2(np.arange(2, r.size + 2)))\n",
    "    return 0.\n",
    "\n",
    "## NDCG computation\n",
    "def ndcg_at_k(r, k):\n",
    "    idcg = dcg_at_k(sorted(r, reverse=True), k)\n",
    "    if not idcg:\n",
    "        return 0.\n",
    "    return dcg_at_k(r, k) / idcg\n"
   ]
  },
  {
   "cell_type": "markdown",
   "metadata": {},
   "source": [
    "## R-Precision and NDCG for a subset"
   ]
  },
  {
   "cell_type": "code",
   "execution_count": 42,
   "metadata": {},
   "outputs": [
    {
     "name": "stdout",
     "output_type": "stream",
     "text": [
      "R-Precision is 190 0.0736842105263\n",
      "NDCG metric: 0.21043817599412445\n",
      "[0, 0, 0, 0, 0, 124, 0, 175, 0, 0, 0, 0, 0, 0, 0, 0, 0, 0, 0, 0, 0, 0, 0, 0, 0, 0, 0, 0, 0, 174, 163, 0, 0, 0, 0, 0, 0, 0, 0, 179, 176, 0, 0, 0, 0, 0, 0, 0, 0, 0, 38, 0, 0, 0, 0, 0, 0, 0, 0, 0, 0, 0, 0, 51, 40, 0, 0, 0, 0, 142, 0, 161, 133, 0, 97, 0, 0, 0, 0, 0, 0, 0, 0, 172, 0, 0, 0, 0, 0, 0, 0, 0, 0, 0, 0, 0, 0, 0, 0, 0, 0, 0, 0, 0, 0, 0, 0, 0, 0, 0, 0, 0, 0, 0, 0, 0, 0, 0, 0, 0, 0, 0, 0, 0, 0, 0, 0, 0, 0, 0, 0, 0, 0, 0, 0, 0, 0, 0, 0, 0, 0, 0, 0, 0, 0, 0, 0, 0, 0, 0, 0, 0, 0, 0, 0, 0, 0, 0, 0, 0, 0, 0, 0, 0, 0, 0, 0, 0, 0, 0, 0, 0, 0, 0, 0, 0, 0, 0, 0, 0, 0, 0, 0, 0, 0, 0, 0, 0, 0, 0, 0, 0, 0, 0, 0, 0, 0, 0, 0, 0, 0, 0, 0, 0, 0, 0, 0, 0, 0, 0, 0, 0, 0, 0, 0, 0, 0, 0, 0, 0, 0, 0, 0, 0, 0, 0, 0, 0, 0, 0, 0, 0, 0, 0, 0, 0, 0, 0, 0, 0, 0, 0, 0, 0, 0, 0, 0, 0, 0, 0, 0, 0, 0, 0, 0, 0, 0, 0, 0, 0, 0, 0, 0, 0, 0, 0, 0, 0, 0, 0, 0, 0, 0, 0, 0, 0, 0, 0, 0, 0, 0, 0, 0, 0, 0, 0, 0, 0, 0, 0, 0, 0, 0, 0, 0, 0, 0, 0, 0, 0, 0, 0, 0, 0, 0, 0, 0, 0, 0, 0, 0, 0, 0, 0, 0, 0, 0, 0, 0, 0, 0, 0, 0, 0, 0, 0, 0, 0, 0, 0, 0, 0, 0, 0, 0, 0, 0, 0, 0, 0, 0, 0, 0, 0, 0, 0, 0, 0, 0, 0, 0, 0, 0, 0, 0, 0, 0, 0, 0, 0, 0, 0, 0, 0, 0, 0, 0, 0, 0, 0, 0, 0, 0, 0, 0, 0, 0, 0, 0, 0, 0, 0, 0, 0, 0, 0, 0, 0, 0, 0, 0, 0, 0, 0, 0, 0, 0, 0, 0, 0, 0, 0, 0, 0, 0, 0, 0, 0, 0, 0, 0, 0, 0, 0, 0, 0, 0, 0, 0, 0, 0, 0, 0, 0, 0, 0, 0, 0, 0, 0, 0, 0, 0, 0, 0, 0, 0, 0, 0, 0, 0, 0, 0, 0, 0, 0, 0, 0, 0, 0, 0, 0, 0, 0, 0, 0, 0, 0, 0, 0, 0, 0, 0, 0, 0, 0, 0, 0, 0, 0, 0, 0, 0, 0, 0, 0, 0, 0, 0, 0, 0, 0, 0, 0, 0, 0, 0, 0, 0, 0, 0, 0, 0, 0, 0, 0, 0, 0, 0, 0]\n",
      "NDCG metric: 0.21043817599412445\n"
     ]
    }
   ],
   "source": [
    "# Computing the r-precision\n",
    "test_idx = 0\n",
    "\n",
    "## R-Precision\n",
    "print \"R-Precision is\", len(X_train[test_idx]), len(list(set(prediction_matrix[0]) & set(X_train[test_idx])))/float(len(X_train[test_idx]))\n",
    "\n",
    "\n",
    "## NDCG computation\n",
    "ndcg_arr = [(len(X_train[test_idx]) - X_train[test_idx].index(x)) if x in X_train[test_idx] else 0 for x in prediction_matrix[0]]\n",
    "print \"NDCG metric:\", ndcg_at_k(ndcg_arr, len(ndcg_arr))\n",
    "print ndcg_arr + (500-len(ndcg_arr))*[0]\n",
    "print \"NDCG metric:\", ndcg_at_k(ndcg_arr, len(ndcg_arr))"
   ]
  },
  {
   "cell_type": "markdown",
   "metadata": {},
   "source": [
    "## Graphs of loss function vs epochs"
   ]
  },
  {
   "cell_type": "code",
   "execution_count": 56,
   "metadata": {},
   "outputs": [
    {
     "name": "stdout",
     "output_type": "stream",
     "text": [
      "loss 3.4077 after 1600 examples (batch_size=1)\n"
     ]
    },
    {
     "data": {
      "image/png": "[encoded data removed]",
      "text/plain": [
       "<matplotlib.figure.Figure at 0x7fdbe1872950>"
      ]
     },
     "metadata": {},
     "output_type": "display_data"
    }
   ],
   "source": [
    "%matplotlib inline\n",
    "import matplotlib.pyplot as plt\n",
    "plt.plot(loss_track)\n",
    "print('loss {:.4f} after {} examples (batch_size={})'.format(loss_track[-1], len(loss_track)*batch_size, batch_size))"
   ]
  }
 ],
 "metadata": {
  "kernelspec": {
   "display_name": "Python 2",
   "language": "python",
   "name": "python2"
  },
  "language_info": {
   "codemirror_mode": {
    "name": "ipython",
    "version": 2
   },
   "file_extension": ".py",
   "mimetype": "text/x-python",
   "name": "python",
   "nbconvert_exporter": "python",
   "pygments_lexer": "ipython2",
   "version": "2.7.14"
  }
 },
 "nbformat": 4,
 "nbformat_minor": 2
}
