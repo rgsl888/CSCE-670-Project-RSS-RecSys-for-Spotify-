{
 "cells": [
  {
   "cell_type": "markdown",
   "metadata": {},
   "source": [
    "# RecSys-Bidirectional RNN with Embeddings"
   ]
  },
  {
   "cell_type": "markdown",
   "metadata": {},
   "source": [
    "### Research problem:\n",
    "The goal of the challenge is to develop a system for the task of automatic playlist continuation. Given a\n",
    "set of playlist features, participants’ systems shall generate a list of recommended tracks that can be\n",
    "added to that playlist, thereby ‘continuing’ the playlist."
   ]
  },
  {
   "cell_type": "markdown",
   "metadata": {},
   "source": [
    "#### Note: \n",
    "1. For generating embeddings please refer to Embeddings keras.ipynb\n",
    "2. Extracting all playlists pertaining to particular keyword please use Workout playlist extraction.ipynb\n",
    "3. Helpers function to generate batches helpers.py\n",
    "4. Basic json used for sanity testing. mpd.slice.1000-1999_100_set.json\n",
    "5. Embeddings are not uploaded due to github size restrictions\n"
   ]
  },
  {
   "cell_type": "markdown",
   "metadata": {},
   "source": [
    "### Loading Libraries and Packages"
   ]
  },
  {
   "cell_type": "code",
   "execution_count": 3,
   "metadata": {},
   "outputs": [
    {
     "name": "stderr",
     "output_type": "stream",
     "text": [
      "/home/sachin/anaconda2/lib/python2.7/site-packages/h5py/__init__.py:34: FutureWarning: Conversion of the second argument of issubdtype from `float` to `np.floating` is deprecated. In future, it will be treated as `np.float64 == np.dtype(float).type`.\n",
      "  from ._conv import register_converters as _register_converters\n"
     ]
    }
   ],
   "source": [
    "# Dependencies\n",
    "import numpy as np\n",
    "import tensorflow as tf\n",
    "import helpers\n",
    "import sys\n",
    "import json\n",
    "import re\n",
    "import collections\n",
    "import os\n",
    "import datetime\n",
    "import glob\n",
    "import math as m\n",
    "\n",
    "# Importing LSTMs\n",
    "from tensorflow.contrib.rnn import LSTMCell, LSTMStateTuple"
   ]
  },
  {
   "cell_type": "code",
   "execution_count": 4,
   "metadata": {},
   "outputs": [
    {
     "data": {
      "text/plain": [
       "'1.4.1'"
      ]
     },
     "execution_count": 4,
     "metadata": {},
     "output_type": "execute_result"
    }
   ],
   "source": [
    "tf.reset_default_graph()\n",
    "sess = tf.InteractiveSession()\n",
    "tf.__version__"
   ]
  },
  {
   "cell_type": "markdown",
   "metadata": {},
   "source": [
    "### Defining MACROS and Environment Variables"
   ]
  },
  {
   "cell_type": "code",
   "execution_count": 45,
   "metadata": {
    "collapsed": true
   },
   "outputs": [],
   "source": [
    "# Add your trained path file here.\n",
    "\n",
    "#fullpath = ['../train_set_untouched/data/mpd.slice.1000-1999.json']\n",
    "#fullpath = ['sleep_100.json']\n",
    "fullpath = ['sleep_1000.json']"
   ]
  },
  {
   "cell_type": "markdown",
   "metadata": {},
   "source": [
    "### This is the pre-processing of the Spotify dataset"
   ]
  },
  {
   "cell_type": "code",
   "execution_count": 46,
   "metadata": {},
   "outputs": [
    {
     "name": "stdout",
     "output_type": "stream",
     "text": [
      "done\n",
      "21374\n",
      "893\n",
      "1\n"
     ]
    }
   ],
   "source": [
    "# Input to seq to seq model\n",
    "X_train = []\n",
    "# 0 and 1 are reserved for EOS and PAD\n",
    "count = 2\n",
    "play_list_names = []\n",
    "\n",
    "# Dictionary to maintain the song index and track name, other features can be added later\n",
    "track_dict = {}\n",
    "\n",
    "# Dicionray to maintain count to uri mapping\n",
    "uri_dict = {}\n",
    "  \n",
    "for item in fullpath:\n",
    "    #print item\n",
    "    f = open(item)\n",
    "    file_content = f.read()\n",
    "    f.close()\n",
    "    mpd_slice = json.loads(file_content)\n",
    "\n",
    "\n",
    "    # Playlist name list\n",
    "    play_list_names += [re.sub('[^a-zA-Z0-9]+', '', mpd_slice['playlists'][idx]['name'].lower()) for idx in range(0, len(mpd_slice['playlists']))]\n",
    "    #print play_list_names\n",
    "    #print item, len(play_list_names), count\n",
    "\n",
    "count += len(set(play_list_names))\n",
    "#print count \n",
    "    \n",
    "for item in fullpath:\n",
    "    #print item\n",
    "    f = open(item)\n",
    "    file_content = f.read()\n",
    "    f.close()\n",
    "    mpd_slice = json.loads(file_content)\n",
    "\n",
    "\n",
    "    # Looping to create the X_train\n",
    "    for idx in range(0, len(mpd_slice['playlists'])):\n",
    "        lst_current = [] \n",
    "\n",
    "        lst_current.append(play_list_names.index(re.sub('[^a-zA-Z0-9]+', '', mpd_slice['playlists'][idx]['name'].lower())) + 2)    \n",
    "\n",
    "        for idy in range(0, len(mpd_slice['playlists'][idx]['tracks'])):\n",
    "            track_uri = re.sub('spotify:track:', '', mpd_slice['playlists'][idx]['tracks'][idy]['track_uri'])\n",
    "            if(track_uri not in track_dict):\n",
    "                track_dict[track_uri] = count\n",
    "                uri_dict[count] = [track_uri, mpd_slice['playlists'][idx]['tracks'][idy]['track_name']]\n",
    "                count += 1\n",
    "            lst_current.append(track_dict[track_uri])\n",
    "            #print lst_current\n",
    "            #print X_train, \"sac\"\n",
    "        X_train.append(lst_current)\n",
    "        #print \"done\", idx\n",
    "    print \"done\"\n",
    "\n",
    "    #print X_train\n",
    "    \n",
    "\n",
    "#print (X_train)\n",
    "print (count)\n",
    "print (len(play_list_names))\n",
    "print (len(set(play_list_names)))"
   ]
  },
  {
   "cell_type": "markdown",
   "metadata": {},
   "source": [
    "### Printing some basic stats"
   ]
  },
  {
   "cell_type": "code",
   "execution_count": 47,
   "metadata": {},
   "outputs": [],
   "source": [
    "X_train_orig = X_train\n",
    "#print (X_train[0:10])"
   ]
  },
  {
   "cell_type": "code",
   "execution_count": 48,
   "metadata": {},
   "outputs": [
    {
     "name": "stdout",
     "output_type": "stream",
     "text": [
      "Train split is: 714 and Test split is: 179\n"
     ]
    }
   ],
   "source": [
    "train_test_split = 0.8\n",
    "X_train, X_test = X_train_orig[0:int(m.floor(train_test_split*len(X_train_orig)))],  X_train_orig[int(m.floor(train_test_split*len(X_train_orig))):len(X_train_orig)]\n",
    "print \"Train split is:\", len(X_train), \"and Test split is:\", len(X_test)"
   ]
  },
  {
   "cell_type": "markdown",
   "metadata": {},
   "source": [
    "### Defining the PAD, EOS, Vocab size and other hyperparameters"
   ]
  },
  {
   "cell_type": "code",
   "execution_count": 11,
   "metadata": {
    "collapsed": true
   },
   "outputs": [],
   "source": [
    "PAD = 0\n",
    "EOS = 1\n",
    "\n",
    "vocab_size = count\n",
    "input_embedding_size = 300\n",
    "\n",
    "encoder_hidden_units = 300\n",
    "decoder_hidden_units = encoder_hidden_units * 2"
   ]
  },
  {
   "cell_type": "markdown",
   "metadata": {},
   "source": [
    "### Defining some placeholders for tensorflow variables"
   ]
  },
  {
   "cell_type": "code",
   "execution_count": 12,
   "metadata": {
    "collapsed": true
   },
   "outputs": [],
   "source": [
    "encoder_inputs = tf.placeholder(shape=(None, None), dtype=tf.int32, name='encoder_inputs')\n",
    "encoder_inputs_length = tf.placeholder(shape=(None,), dtype=tf.int32, name='encoder_inputs_length')\n",
    "\n",
    "decoder_targets = tf.placeholder(shape=(None, None), dtype=tf.int32, name='decoder_targets')"
   ]
  },
  {
   "cell_type": "markdown",
   "metadata": {},
   "source": [
    "### Embeddings"
   ]
  },
  {
   "cell_type": "code",
   "execution_count": 16,
   "metadata": {
    "collapsed": true
   },
   "outputs": [],
   "source": [
    "# Modify this variable if you want to load the external embeddings\n",
    "external_load_embeddings = True"
   ]
  },
  {
   "cell_type": "code",
   "execution_count": 18,
   "metadata": {},
   "outputs": [
    {
     "name": "stdout",
     "output_type": "stream",
     "text": [
      "Training the embeddings\n"
     ]
    }
   ],
   "source": [
    "# Module to load external embeddings.\n",
    "\n",
    "if(external_load_embeddings == True):\n",
    "    print \"Loading the embeddings\"\n",
    "    embed_file = np.load('embedding_1000.npy')\n",
    "    print embed_file.shape\n",
    "    print vocab_size, input_embedding_size\n",
    "    init = tf.constant(embed_file, dtype=tf.float32)\n",
    "    embeddings = tf.get_variable('embeddings', trainable=False, initializer = init, dtype=tf.float32)\n",
    "else:\n",
    "    print \"Training the embeddings\"\n",
    "    embeddings = tf.Variable(tf.random_uniform([vocab_size, input_embedding_size], -1.0, 1.0), dtype=tf.float32)"
   ]
  },
  {
   "cell_type": "markdown",
   "metadata": {
    "collapsed": true
   },
   "source": [
    "### Lookup function to get embeddings as a continuous represemtation from one-hot inputs"
   ]
  },
  {
   "cell_type": "code",
   "execution_count": 21,
   "metadata": {
    "collapsed": true
   },
   "outputs": [],
   "source": [
    "encoder_inputs_embedded = tf.nn.embedding_lookup(embeddings, encoder_inputs)"
   ]
  },
  {
   "cell_type": "markdown",
   "metadata": {},
   "source": [
    "## Encoder"
   ]
  },
  {
   "cell_type": "markdown",
   "metadata": {},
   "source": [
    "We are using `tf.nn.bidirectional_dynamic_rnn` as the encoder for better understanding of the context"
   ]
  },
  {
   "cell_type": "code",
   "execution_count": 22,
   "metadata": {
    "collapsed": true
   },
   "outputs": [],
   "source": [
    "# Defining the encoder cell \n",
    "encoder_cell = LSTMCell(encoder_hidden_units)"
   ]
  },
  {
   "cell_type": "code",
   "execution_count": 23,
   "metadata": {
    "collapsed": true
   },
   "outputs": [],
   "source": [
    "# Defining the Bi-directional RNN with inputs and outputs merged\n",
    "\n",
    "((encoder_fw_outputs,\n",
    "  encoder_bw_outputs),\n",
    " (encoder_fw_final_state,\n",
    "  encoder_bw_final_state)) = (\n",
    "    tf.nn.bidirectional_dynamic_rnn(cell_fw=encoder_cell,\n",
    "                                    cell_bw=encoder_cell,\n",
    "                                    inputs=encoder_inputs_embedded,\n",
    "                                    sequence_length=encoder_inputs_length,\n",
    "                                    dtype=tf.float32, time_major=True)\n",
    "    )"
   ]
  },
  {
   "cell_type": "markdown",
   "metadata": {},
   "source": [
    "### Forward and backward outputs and state are concatenated and used for attention"
   ]
  },
  {
   "cell_type": "code",
   "execution_count": 24,
   "metadata": {
    "collapsed": true
   },
   "outputs": [],
   "source": [
    "encoder_outputs = tf.concat((encoder_fw_outputs, encoder_bw_outputs), 2)\n",
    "\n",
    "encoder_final_state_c = tf.concat(\n",
    "    (encoder_fw_final_state.c, encoder_bw_final_state.c), 1)\n",
    "\n",
    "encoder_final_state_h = tf.concat(\n",
    "    (encoder_fw_final_state.h, encoder_bw_final_state.h), 1)\n",
    "\n",
    "encoder_final_state = LSTMStateTuple(\n",
    "    c=encoder_final_state_c,\n",
    "    h=encoder_final_state_h\n",
    ")"
   ]
  },
  {
   "cell_type": "markdown",
   "metadata": {},
   "source": [
    "## Decoder"
   ]
  },
  {
   "cell_type": "markdown",
   "metadata": {},
   "source": [
    "We are using raw_rnns for decoders as it allows to control what should output, what should be fed next, and hence allows us to include attention mechanism"
   ]
  },
  {
   "cell_type": "code",
   "execution_count": 25,
   "metadata": {
    "collapsed": true
   },
   "outputs": [],
   "source": [
    "# Defining the decoder cell \n",
    "\n",
    "decoder_cell = LSTMCell(decoder_hidden_units)"
   ]
  },
  {
   "cell_type": "code",
   "execution_count": 26,
   "metadata": {
    "collapsed": true
   },
   "outputs": [],
   "source": [
    "# Unstacting the inputs from batches \n",
    "\n",
    "encoder_max_time, batch_size = tf.unstack(tf.shape(encoder_inputs))"
   ]
  },
  {
   "cell_type": "markdown",
   "metadata": {},
   "source": [
    "In this project the decoder will be able to predict sequences of lengths +2 additional steps. +500 did not work because of vanishing gradients"
   ]
  },
  {
   "cell_type": "code",
   "execution_count": 27,
   "metadata": {
    "collapsed": true
   },
   "outputs": [],
   "source": [
    "decoder_lengths = encoder_inputs_length + 2"
   ]
  },
  {
   "cell_type": "markdown",
   "metadata": {},
   "source": [
    "## Label mapping for backpropagation\n",
    "\n",
    "We are defining the weights and biases for the linear softmax layer to generate probability distribution for the predictions and map with the original sequence"
   ]
  },
  {
   "cell_type": "code",
   "execution_count": 28,
   "metadata": {
    "collapsed": true
   },
   "outputs": [],
   "source": [
    "W = tf.Variable(tf.random_uniform([decoder_hidden_units, vocab_size], -1, 1), dtype=tf.float32)\n",
    "b = tf.Variable(tf.zeros([vocab_size]), dtype=tf.float32)"
   ]
  },
  {
   "cell_type": "markdown",
   "metadata": {},
   "source": [
    "Token preparation for EOS and PAD tokens to denote End of sequence and Padding for smaler sequences"
   ]
  },
  {
   "cell_type": "code",
   "execution_count": 29,
   "metadata": {
    "collapsed": true
   },
   "outputs": [],
   "source": [
    "assert EOS == 1 and PAD == 0\n",
    "\n",
    "eos_time_slice = tf.ones([batch_size], dtype=tf.int32, name='EOS')\n",
    "pad_time_slice = tf.zeros([batch_size], dtype=tf.int32, name='PAD')\n",
    "\n",
    "eos_step_embedded = tf.nn.embedding_lookup(embeddings, eos_time_slice)\n",
    "pad_step_embedded = tf.nn.embedding_lookup(embeddings, pad_time_slice)"
   ]
  },
  {
   "cell_type": "markdown",
   "metadata": {},
   "source": [
    "Next we define two loop functions involving tensors to implement soft attention mechanism. Also by defining the loop functions we will be providing the previously generated decoder output to the current cell computation.\n",
    "\n",
    "\n",
    "Loop transition function is a mapping `(time, previous_cell_output, previous_cell_state, previous_loop_state) -> (elements_finished, input, cell_state, output, loop_state)`. It is called *before* RNNCell to prepare its inputs and state. Everything is a Tensor except for initial call at time=0 when everything is `None` (except `time`)."
   ]
  },
  {
   "cell_type": "code",
   "execution_count": 30,
   "metadata": {
    "collapsed": true
   },
   "outputs": [],
   "source": [
    "# Loop initialization function. Loop initial state is function of only `encoder_final_state` and embeddings:\n",
    "def loop_fn_initial():\n",
    "    initial_elements_finished = (0 >= decoder_lengths)  # all False at the initial step\n",
    "    initial_input = eos_step_embedded\n",
    "    initial_cell_state = encoder_final_state\n",
    "    initial_cell_output = None\n",
    "    initial_loop_state = None  # we don't need to pass any additional information\n",
    "    return (initial_elements_finished,\n",
    "            initial_input,\n",
    "            initial_cell_state,\n",
    "            initial_cell_output,\n",
    "            initial_loop_state)"
   ]
  },
  {
   "cell_type": "markdown",
   "metadata": {},
   "source": [
    "Loop transition function"
   ]
  },
  {
   "cell_type": "code",
   "execution_count": 31,
   "metadata": {
    "collapsed": true
   },
   "outputs": [],
   "source": [
    "# Define transition function such that maximum probable previously generated token is passed as next input.\n",
    "def loop_fn_transition(time, previous_output, previous_state, previous_loop_state):\n",
    "\n",
    "    def get_next_input():\n",
    "        output_logits = tf.add(tf.matmul(previous_output, W), b)\n",
    "        prediction = tf.argmax(output_logits, axis=1)\n",
    "        next_input = tf.nn.embedding_lookup(embeddings, prediction)\n",
    "        return next_input\n",
    "    \n",
    "    elements_finished = (time >= decoder_lengths) \n",
    "\n",
    "    finished = tf.reduce_all(elements_finished) # -> boolean scalar\n",
    "    input = tf.cond(finished, lambda: pad_step_embedded, get_next_input)\n",
    "    state = previous_state\n",
    "    output = previous_output\n",
    "    loop_state = None\n",
    "\n",
    "    return (elements_finished, input, state, output, loop_state)"
   ]
  },
  {
   "cell_type": "markdown",
   "metadata": {},
   "source": [
    "Combining the initializer and transition functions to create a new raw_rnn."
   ]
  },
  {
   "cell_type": "code",
   "execution_count": 32,
   "metadata": {
    "collapsed": true
   },
   "outputs": [],
   "source": [
    "def loop_fn(time, previous_output, previous_state, previous_loop_state):\n",
    "    if previous_state is None:    # time == 0\n",
    "        assert previous_output is None and previous_state is None\n",
    "        return loop_fn_initial()\n",
    "    else:\n",
    "        return loop_fn_transition(time, previous_output, previous_state, previous_loop_state)\n",
    "\n",
    "decoder_outputs_ta, decoder_final_state, _ = tf.nn.raw_rnn(decoder_cell, loop_fn)\n",
    "decoder_outputs = decoder_outputs_ta.stack()"
   ]
  },
  {
   "cell_type": "markdown",
   "metadata": {},
   "source": [
    "Flattening the layers and getting the logits for the prediction"
   ]
  },
  {
   "cell_type": "code",
   "execution_count": 33,
   "metadata": {
    "collapsed": true
   },
   "outputs": [],
   "source": [
    "decoder_max_steps, decoder_batch_size, decoder_dim = tf.unstack(tf.shape(decoder_outputs))\n",
    "decoder_outputs_flat = tf.reshape(decoder_outputs, (-1, decoder_dim))\n",
    "decoder_logits_flat = tf.add(tf.matmul(decoder_outputs_flat, W), b)\n",
    "decoder_logits = tf.reshape(decoder_logits_flat, (decoder_max_steps, decoder_batch_size, vocab_size))"
   ]
  },
  {
   "cell_type": "markdown",
   "metadata": {},
   "source": [
    "Getting the predictions in a tensor"
   ]
  },
  {
   "cell_type": "code",
   "execution_count": 34,
   "metadata": {
    "collapsed": true,
    "scrolled": false
   },
   "outputs": [],
   "source": [
    "decoder_prediction = tf.argmax(decoder_logits, 2)"
   ]
  },
  {
   "cell_type": "markdown",
   "metadata": {},
   "source": [
    "### Optimizer"
   ]
  },
  {
   "cell_type": "markdown",
   "metadata": {},
   "source": [
    "We are using softmax function for generating the prediction probabilities. Categorical crossentrpy is used as a loss function for computing the difference between the actual and predicted probability distributions"
   ]
  },
  {
   "cell_type": "code",
   "execution_count": 35,
   "metadata": {
    "collapsed": true
   },
   "outputs": [],
   "source": [
    "stepwise_cross_entropy = tf.nn.softmax_cross_entropy_with_logits(\n",
    "    labels=tf.one_hot(decoder_targets, depth=vocab_size, dtype=tf.float32),\n",
    "    logits=decoder_logits,\n",
    ")\n",
    "\n",
    "loss = tf.reduce_mean(stepwise_cross_entropy)\n",
    "train_op = tf.train.AdamOptimizer(learning_rate=0.004,).minimize(loss)"
   ]
  },
  {
   "cell_type": "markdown",
   "metadata": {},
   "source": [
    "Initialize all the variables to check the basic model is correct or not"
   ]
  },
  {
   "cell_type": "code",
   "execution_count": 36,
   "metadata": {
    "collapsed": true
   },
   "outputs": [],
   "source": [
    "sess.run(tf.global_variables_initializer())"
   ]
  },
  {
   "cell_type": "markdown",
   "metadata": {},
   "source": [
    "## Training on the dataset"
   ]
  },
  {
   "cell_type": "code",
   "execution_count": 37,
   "metadata": {
    "collapsed": true
   },
   "outputs": [],
   "source": [
    "batch_size = 10\n",
    "epochs = 20\n",
    "\n",
    "def next_feed(index):\n",
    "    batch = X_train[index*batch_size: (index+1)*batch_size]\n",
    "    #print (\"Batch \", batch)\n",
    "    encoder_inputs_, encoder_input_lengths_ = helpers.batch(batch)\n",
    "    #print \"Encoder i/p:\", encoder_inputs_\n",
    "    decoder_targets_, _ = helpers.batch(\n",
    "        [(sequence[1:len(sequence)]) + [EOS] + [PAD]*2 for sequence in batch]\n",
    "    )\n",
    "    return {\n",
    "        encoder_inputs: encoder_inputs_,\n",
    "        encoder_inputs_length: encoder_input_lengths_,\n",
    "        decoder_targets: decoder_targets_,\n",
    "    }"
   ]
  },
  {
   "cell_type": "markdown",
   "metadata": {},
   "source": [
    "Loss variable to track the loss after each epoch"
   ]
  },
  {
   "cell_type": "code",
   "execution_count": 38,
   "metadata": {
    "collapsed": true
   },
   "outputs": [],
   "source": [
    "loss_track = []"
   ]
  },
  {
   "cell_type": "markdown",
   "metadata": {},
   "source": [
    "Running the train method and tracking the time for each epoch"
   ]
  },
  {
   "cell_type": "code",
   "execution_count": 39,
   "metadata": {
    "scrolled": true
   },
   "outputs": [
    {
     "name": "stdout",
     "output_type": "stream",
     "text": [
      "WARNING:tensorflow:From /home/sachin/anaconda2/lib/python2.7/site-packages/tensorflow/python/util/tf_should_use.py:107: initialize_all_variables (from tensorflow.python.ops.variables) is deprecated and will be removed after 2017-03-02.\n",
      "Instructions for updating:\n",
      "Use `tf.global_variables_initializer` instead.\n",
      "('Epoch', 0)\n",
      "10.595109\n",
      "10.30477\n",
      "10.296449\n",
      "10.184431\n",
      "Time taken per epoch:  68.8064701557\n",
      "('Epoch', 1)\n",
      "9.714048\n",
      "9.86598\n",
      "9.921107\n",
      "9.7864485\n",
      "Time taken per epoch:  67.9911730289\n",
      "('Epoch', 2)\n",
      "9.18689\n",
      "9.516655\n",
      "9.602545\n",
      "9.488873\n",
      "Time taken per epoch:  64.368366003\n",
      "('Epoch', 3)\n",
      "8.879628\n",
      "9.154964\n",
      "9.244562\n",
      "9.11173\n",
      "Time taken per epoch:  63.6041829586\n",
      "('Epoch', 4)\n",
      "8.625769\n",
      "10.014691\n",
      "9.189094\n",
      "9.79594\n",
      "Time taken per epoch:  63.6921460629\n",
      "('Epoch', 5)\n",
      "8.406231\n",
      "8.554599\n",
      "8.776959\n",
      "8.89195\n",
      "Time taken per epoch:  63.8741130829\n",
      "('Epoch', 6)\n",
      "7.8010907\n",
      "8.121935\n",
      "8.307964\n",
      "8.090075\n",
      "Time taken per epoch:  64.0411410332\n",
      "('Epoch', 7)\n",
      "7.44532\n",
      "7.712841\n",
      "8.060685\n",
      "7.683864\n",
      "Time taken per epoch:  64.5985150337\n",
      "('Epoch', 8)\n",
      "6.9585705\n",
      "7.3844247\n",
      "7.6310344\n",
      "7.2426257\n",
      "Time taken per epoch:  63.694589138\n",
      "('Epoch', 9)\n",
      "6.3532863\n",
      "6.9843874\n",
      "7.2370076\n",
      "6.8569217\n",
      "Time taken per epoch:  64.6257820129\n",
      "('Epoch', 10)\n",
      "5.925279\n",
      "6.5897164\n",
      "6.8851027\n",
      "6.382462\n",
      "Time taken per epoch:  64.1280350685\n",
      "('Epoch', 11)\n",
      "5.5481415\n",
      "6.2332425\n",
      "6.265205\n",
      "6.1097794\n",
      "Time taken per epoch:  64.2347278595\n",
      "('Epoch', 12)\n",
      "5.0888186\n",
      "5.782421\n",
      "5.9081044\n",
      "5.746878\n",
      "Time taken per epoch:  64.2642419338\n",
      "('Epoch', 13)\n",
      "4.666566\n",
      "5.4345226\n",
      "5.3578324\n",
      "5.547274\n",
      "Time taken per epoch:  64.2275719643\n",
      "('Epoch', 14)\n",
      "4.358631\n",
      "5.0362763\n",
      "4.9037876\n",
      "5.012026\n",
      "Time taken per epoch:  65.2506170273\n",
      "('Epoch', 15)\n",
      "3.978104\n",
      "4.6587815\n",
      "4.680494\n",
      "4.74624\n",
      "Time taken per epoch:  66.8974721432\n",
      "('Epoch', 16)\n",
      "3.7099733\n",
      "4.314043\n",
      "4.3374095\n",
      "4.478523\n",
      "Time taken per epoch:  66.8162670135\n",
      "('Epoch', 17)\n",
      "3.551838\n",
      "4.0214343\n",
      "4.0737247\n",
      "3.956275\n",
      "Time taken per epoch:  65.6204211712\n",
      "('Epoch', 18)\n",
      "3.2020597\n",
      "3.6006222\n",
      "3.7290387\n",
      "3.7918978\n",
      "Time taken per epoch:  65.4933550358\n",
      "('Epoch', 19)\n",
      "2.9895754\n",
      "3.3529334\n",
      "3.3823457\n",
      "3.4077299\n",
      "Time taken per epoch:  64.2763180733\n"
     ]
    }
   ],
   "source": [
    "sess.run(tf.initialize_all_variables())\n",
    "import time\n",
    "\n",
    "\n",
    "#try:\n",
    "for i in range (epochs):\n",
    "    tic = time.time()\n",
    "    print (\"Epoch\", i)\n",
    "    index = 0\n",
    "    for index in range (len(X_train)/batch_size):\n",
    "        fd = next_feed(index)\n",
    "        #index = index\n",
    "        _, l = sess.run([train_op, loss], fd)\n",
    "        loss_track.append(l)\n",
    "        if(len(loss_track)%20 == 0):\n",
    "            print loss_track[-1]\n",
    "    print \"Time taken per epoch: \", time.time() - tic"
   ]
  },
  {
   "cell_type": "markdown",
   "metadata": {},
   "source": [
    "### Saving the model"
   ]
  },
  {
   "cell_type": "code",
   "execution_count": 41,
   "metadata": {},
   "outputs": [
    {
     "name": "stdout",
     "output_type": "stream",
     "text": [
      "0426_2158\n"
     ]
    }
   ],
   "source": [
    "import time\n",
    "timestr = time.strftime(\"%m%d_%H%M\")\n",
    "print timestr\n",
    "model_name =  './1000_playlist_50_epoch_400_neuron' + timestr + '.ckpt'"
   ]
  },
  {
   "cell_type": "code",
   "execution_count": 42,
   "metadata": {
    "collapsed": true
   },
   "outputs": [],
   "source": [
    "saver = tf.train.Saver(max_to_keep=1) \n",
    "#with tf.Session() as sess:\n",
    "savePath = saver.save(sess, model_name)"
   ]
  },
  {
   "cell_type": "code",
   "execution_count": null,
   "metadata": {},
   "outputs": [],
   "source": [
    "model_name_to_load = 'sleep_50_epoch_400_neuron0424_1424.ckpt'\n",
    "saver = tf.train.import_meta_graph(model_name_to_load + '.meta')\n",
    "saver.restore(sess, model_name_to_load)\n",
    "# access a variable from the saved Graph, and s on:\n",
    "#someVar = sess.run('varName:0')"
   ]
  },
  {
   "cell_type": "markdown",
   "metadata": {
    "collapsed": true
   },
   "source": [
    "## Testing on the toy dataset"
   ]
  },
  {
   "cell_type": "code",
   "execution_count": 61,
   "metadata": {},
   "outputs": [],
   "source": [
    "# Trial test for 10 small batch\n",
    "# Trial test for 100 batch\n",
    "#X_test = [[2, 94, 95, 96, 97, 98, 99, 100, 101, 102, 103, 104, 105, 106, 107, 108, 109, 110]]\n",
    "\n",
    "# Trial test for 2 files\n",
    "#X_test = [[2, 1246, 1247, 1248, 1249, 1250, 1251, 1252, 1253, 1254, 1255, 1256, 1257, 1258]]\n",
    "          \n",
    "# Sleep test\n",
    "X_test_orig = X_test\n",
    "\n",
    "#print X_test_orig"
   ]
  },
  {
   "cell_type": "markdown",
   "metadata": {},
   "source": [
    "## Running the predictions "
   ]
  },
  {
   "cell_type": "code",
   "execution_count": 58,
   "metadata": {
    "collapsed": true
   },
   "outputs": [],
   "source": [
    "## Running the predictions\n",
    "batch = X_test\n",
    "batch_size = 1\n",
    "\n",
    "def next_feed_test(index):\n",
    "    encoder_inputs_, encoder_input_lengths_ = helpers.batch(batch[index*batch_size: (index+1)*batch_size])\n",
    "    decoder_targets_, _ = helpers.batch(\n",
    "        [(sequence[1:len(sequence)]) + [EOS] + [PAD]*2 for sequence in batch]\n",
    "    )\n",
    "    return {\n",
    "        encoder_inputs: encoder_inputs_,\n",
    "        encoder_inputs_length: encoder_input_lengths_,\n",
    "        decoder_targets: decoder_targets_,\n",
    "    }\n",
    "\n",
    "def gen_batch_from_sample(x_input):\n",
    "    encoder_inputs_, encoder_input_lengths_ = helpers.batch(x_input)\n",
    "    decoder_targets_, _ = helpers.batch(\n",
    "        [(sequence[1:len(sequence)]) + [EOS] + [PAD]*2 for sequence in x_input]\n",
    "    )\n",
    "    return {\n",
    "        encoder_inputs: encoder_inputs_,\n",
    "        encoder_inputs_length: encoder_input_lengths_,\n",
    "        decoder_targets: decoder_targets_,\n",
    "    }\n",
    "\n",
    "#fd = next_feed_test(0)"
   ]
  },
  {
   "cell_type": "code",
   "execution_count": null,
   "metadata": {},
   "outputs": [],
   "source": [
    "predicted_sequence = []\n",
    "\n",
    "for index in range (len(X_test)/batch_size):\n",
    "    fd = next_feed_test(index)\n",
    "    \n",
    "    predict_ = sess.run(decoder_prediction, fd)\n",
    "    \n",
    "    for i, (inp, pred) in enumerate(zip(fd[encoder_inputs].T, predict_.T)):\n",
    "        print('  sample {}:'.format(index + 1))\n",
    "        print('    input     > {}'.format(inp))\n",
    "        print('    predicted > {}'.format(pred))\n",
    "    predicted_sequence.append(predict_.T[0])"
   ]
  },
  {
   "cell_type": "code",
   "execution_count": null,
   "metadata": {},
   "outputs": [],
   "source": [
    "print len(predicted_sequence[0])"
   ]
  },
  {
   "cell_type": "markdown",
   "metadata": {},
   "source": [
    "## Methods to feed the predictions generated back as a input sequence and get more predictions"
   ]
  },
  {
   "cell_type": "code",
   "execution_count": null,
   "metadata": {},
   "outputs": [
    {
     "name": "stdout",
     "output_type": "stream",
     "text": [
      "sachin debug [[  859]\n",
      " [ 9369]\n",
      " [33939]\n",
      " [13981]\n",
      " [16020]\n",
      " [16349]\n",
      " [ 5685]\n",
      " [12768]\n",
      " [  773]\n",
      " [  729]\n",
      " [  773]\n",
      " [  729]\n",
      " [  773]\n",
      " [  729]\n",
      " [  773]\n",
      " [  729]\n",
      " [  773]\n",
      " [  729]\n",
      " [  773]]\n",
      "[2, 712, 713, 714, 715, 716, 717, 718, 719, 720, 721, 722, 723, 724, 725, 726, 727, 859, 9369, 33939, 13981, 16020, 16349, 5685, 12768, 773, 729, 773, 729, 773, 729, 773, 729, 773, 729, 773]\n"
     ]
    }
   ],
   "source": [
    "from collections import OrderedDict\n",
    "\n",
    "prediction_matrix = []\n",
    "for index in range (len(X_test)/batch_size):\n",
    "    fd = next_feed_test(index)\n",
    "    #print fd\n",
    "    \n",
    "    predict_ = sess.run(decoder_prediction, fd)\n",
    "    print \"sachin debug\", predict_\n",
    "    \n",
    "    # trying to generate 500 predictions\n",
    "    \n",
    "    orig_test_seq =  X_test[index] + predict_.reshape(len(predict_),).tolist()\n",
    "    #print \"sac\", orig_test_seq, X_test[index][1:len(X_test[index])]\n",
    "    play_list_seq = list(range(0, len(set(play_list_names))+1))\n",
    "    test_seq = orig_test_seq\n",
    "\n",
    "    \n",
    "    count = 0\n",
    "    while((len(set(test_seq)) != 500) and (len(set(orig_test_seq)) != 500)):\n",
    "        # Removing the duplicates\n",
    "        test_seq = list(OrderedDict.fromkeys(test_seq))\n",
    "        # Removing the EOS and PAD\n",
    "        test_seq = [x for x in test_seq if x not in [0,1]]\n",
    "        \n",
    "        fd_input = X_test[index] + [x for x in test_seq if x not in X_test[index]]\n",
    "        \n",
    "        fd_test = gen_batch_from_sample([fd_input])\n",
    "        predict_ = sess.run(decoder_prediction, fd_test)\n",
    "        local_prediction = predict_.reshape(len(predict_),).tolist()\n",
    "        orig_test_seq +=  [x for x in local_prediction if x not in orig_test_seq]\n",
    "        #print \"iter\", count, test_seq, orig_test_seq\n",
    "        test_seq = orig_test_seq\n",
    "\n",
    "        count += 1\n",
    "        if(count == 100):\n",
    "            break\n",
    "    \n",
    "    local_prediction = predict_.reshape(len(predict_),).tolist()\n",
    "    orig_test_seq +=  [x for x in local_prediction if x not in orig_test_seq]\n",
    "    \n",
    "    \n",
    "    seq_list = list(OrderedDict.fromkeys(orig_test_seq))\n",
    "    \n",
    "    seq_list = [x for x in seq_list if x not in play_list_seq]\n",
    "    \n",
    "    # Change\n",
    "    seq_list = [x for x in seq_list if x not in X_test[index]]\n",
    "    prediction_matrix.append(seq_list)\n",
    "    "
   ]
  },
  {
   "cell_type": "code",
   "execution_count": 38,
   "metadata": {},
   "outputs": [
    {
     "name": "stdout",
     "output_type": "stream",
     "text": [
      "Predicted sequence: 0\n",
      "Photograph, Love Is an Open Door, 7 Years, Wish You Were Here, I've Got a Dream - From \"Tangled\"/Soundtrack Version, You'll Be In My Heart, Does Ya Mama Know? (Dance Like That) #HEYNOW, Poor Unfortunate Souls - Broadway Cast Recording, Sorry, Where Are Ü Now (with Justin Bieber), Vroom Vroom, Applause, Come Together, Wildest Moments, Ghostbusters, When You're An Addams, Lucky, Dog Days Are Over, Dancing Through Life - From \"Wicked\" Original Broadway Cast Recording/2003, I've Never Felt So Good, Gold Angel - Savoir Adore Remix, C'Mon, Do I Wanna Know?, Friends on the Other Side - From \"The Princess and the Frog\" / Soundtrack Version, Breathe, Born For This, You Got Worked (feat. Mateo Senolia) [CASAMENA Stripped Remix] - Mixed, Ils appellent ça, Kif'n'dir, Positoovity - Broadway Cast Recording, Kiss the Girl - From \"The Little Mermaid\"/Soundtrack Version, Closer, Cheerleader, C.O.U.N.T.R.Y., It's My Life, Diss Me, Doin' it Right, Still Want You, Devil Eyes, The World Above (Reprise) - Broadway Cast Recording, Sweet Child - Broadway Cast Recording, All Creatures, You're Going Down, Green Light, Big Men in the Sky, They Are All In Love, Coffee, This Is War, Menswear, Vice Grip, A Whole New World, This Is The Last Time, Say You'll Be There, Silence in Me, Trndsttr (feat. M. Maggie) - Lucian Remix, Miracles, No More Mr. Nice Guy, Yours (Glory and Praise) [Acoustic], Good Life (with G-Eazy & Kehlani), Do It Big (feat. Bad Lucc, Sage The Gemini), Last Resort, Somebody That I Used To Know, Raging, Magic Carpet/Parting The Seas, One Jump Ahead (Reprise), Lean On (feat. MØ & DJ Snake), Hand on My Gat, 7/11, Circle Of Life - From \"The Lion King\"/Soundtrack, A Million Miles Away, Home, Part of Your World (Reprise) - From \"The Little Mermaid\"/ Soundtrack Version, Prince Ali (Sultan Reprise), On Top Of The World, Belle, Twist And Shout - Remastered 2009, Ella No Cree En El Amor, Riptide, Come On Eileen, Formidable, Hear The Sound, Ladies and Gentlemen We Are Floating in Space, I'll Make a Man Out of You - From \"Mulan\"/Soundtrack, One Step Closer - Broadway Cast Recording, Can't Sleep Love, Sunrise, Haven't Met You Yet, Ginza, Defying Gravity - From \"Wicked\" Original Broadway Cast Recording/2003, Courtesy Call, Best Light\n",
      "\n",
      "\n",
      "[14360, 13277, 3805, 15906, 13278, 773, 16026, 726, 1536, 1535, 16020, 7901, 13248, 3035, 14612, 14620, 12847, 3341, 17555, 3864, 13640, 13023, 2004, 29504, 30560, 10447, 10015, 28781, 28782, 727, 738, 2861, 16244, 7502, 11650, 9541, 1315, 14160, 1660, 722, 725, 10863, 6004, 1222, 24153, 28659, 2001, 29707, 28201, 5960, 859, 16182, 17113, 33939, 1633, 14904, 14615, 10825, 1850, 7888, 5336, 1324, 3902, 846, 857, 1534, 8835, 1538, 3911, 755, 5131, 740, 764, 7632, 800, 13144, 13433, 3037, 1094, 20403, 10856, 25127, 3908, 729, 5675, 5683, 14131, 5828, 22077, 5972, 13639]\n"
     ]
    }
   ],
   "source": [
    "for i in range(0, len(prediction_matrix)):\n",
    "    song_names = [uri_dict[x][1] for x in prediction_matrix[i]]\n",
    "    song_names = map(lambda x:x.encode(\"utf-8\"), song_names)\n",
    "    print \"Predicted sequence:\", i\n",
    "    print \", \".join(song_names)\n",
    "    print \"\\n\"\n",
    "    print prediction_matrix[i]"
   ]
  },
  {
   "cell_type": "markdown",
   "metadata": {
    "collapsed": true,
    "scrolled": false
   },
   "source": [
    "## Precision metrics computation (R-Precision and NDCG)"
   ]
  },
  {
   "cell_type": "code",
   "execution_count": 40,
   "metadata": {
    "collapsed": true
   },
   "outputs": [],
   "source": [
    "## R-Precision\n",
    "def r_precision(r):\n",
    "    \"\"\"Score is precision after all relevant documents have been retrieved\n",
    "    Relevance is binary (nonzero is relevant).\n",
    "    >>> r = [0, 0, 1]\n",
    "    >>> r_precision(r)\n",
    "    0.33333333333333331\n",
    "    >>> r = [0, 1, 0]\n",
    "    >>> r_precision(r)\n",
    "    0.5\n",
    "    >>> r = [1, 0, 0]\n",
    "    >>> r_precision(r)\n",
    "    1.0\n",
    "    Args:\n",
    "        r: Relevance scores (list or numpy) in rank order\n",
    "            (first element is the first item)\n",
    "    Returns:\n",
    "        R Precision\n",
    "    \"\"\"\n",
    "    r = np.asarray(r) != 0\n",
    "    z = r.nonzero()[0]\n",
    "    if not z.size:\n",
    "        return 0.\n",
    "    return np.mean(r[:z[-1] + 1])\n",
    "\n",
    "## DCG computation\n",
    "def dcg_at_k(r, k):\n",
    "    r = np.asfarray(r)[:k]\n",
    "    if r.size:\n",
    "        return np.sum(np.subtract(np.power(2, r), 1) / np.log2(np.arange(2, r.size + 2)))\n",
    "    return 0.\n",
    "\n",
    "## NDCG computation\n",
    "def ndcg_at_k(r, k):\n",
    "    idcg = dcg_at_k(sorted(r, reverse=True), k)\n",
    "    if not idcg:\n",
    "        return 0.\n",
    "    return dcg_at_k(r, k) / idcg\n"
   ]
  },
  {
   "cell_type": "markdown",
   "metadata": {},
   "source": [
    "## R-Precision and NDCG for a subset"
   ]
  },
  {
   "cell_type": "code",
   "execution_count": 42,
   "metadata": {},
   "outputs": [
    {
     "name": "stdout",
     "output_type": "stream",
     "text": [
      "R-Precision is 190 0.0736842105263\n",
      "NDCG metric: 0.21043817599412445\n",
      "[0, 0, 0, 0, 0, 124, 0, 175, 0, 0, 0, 0, 0, 0, 0, 0, 0, 0, 0, 0, 0, 0, 0, 0, 0, 0, 0, 0, 0, 174, 163, 0, 0, 0, 0, 0, 0, 0, 0, 179, 176, 0, 0, 0, 0, 0, 0, 0, 0, 0, 38, 0, 0, 0, 0, 0, 0, 0, 0, 0, 0, 0, 0, 51, 40, 0, 0, 0, 0, 142, 0, 161, 133, 0, 97, 0, 0, 0, 0, 0, 0, 0, 0, 172, 0, 0, 0, 0, 0, 0, 0, 0, 0, 0, 0, 0, 0, 0, 0, 0, 0, 0, 0, 0, 0, 0, 0, 0, 0, 0, 0, 0, 0, 0, 0, 0, 0, 0, 0, 0, 0, 0, 0, 0, 0, 0, 0, 0, 0, 0, 0, 0, 0, 0, 0, 0, 0, 0, 0, 0, 0, 0, 0, 0, 0, 0, 0, 0, 0, 0, 0, 0, 0, 0, 0, 0, 0, 0, 0, 0, 0, 0, 0, 0, 0, 0, 0, 0, 0, 0, 0, 0, 0, 0, 0, 0, 0, 0, 0, 0, 0, 0, 0, 0, 0, 0, 0, 0, 0, 0, 0, 0, 0, 0, 0, 0, 0, 0, 0, 0, 0, 0, 0, 0, 0, 0, 0, 0, 0, 0, 0, 0, 0, 0, 0, 0, 0, 0, 0, 0, 0, 0, 0, 0, 0, 0, 0, 0, 0, 0, 0, 0, 0, 0, 0, 0, 0, 0, 0, 0, 0, 0, 0, 0, 0, 0, 0, 0, 0, 0, 0, 0, 0, 0, 0, 0, 0, 0, 0, 0, 0, 0, 0, 0, 0, 0, 0, 0, 0, 0, 0, 0, 0, 0, 0, 0, 0, 0, 0, 0, 0, 0, 0, 0, 0, 0, 0, 0, 0, 0, 0, 0, 0, 0, 0, 0, 0, 0, 0, 0, 0, 0, 0, 0, 0, 0, 0, 0, 0, 0, 0, 0, 0, 0, 0, 0, 0, 0, 0, 0, 0, 0, 0, 0, 0, 0, 0, 0, 0, 0, 0, 0, 0, 0, 0, 0, 0, 0, 0, 0, 0, 0, 0, 0, 0, 0, 0, 0, 0, 0, 0, 0, 0, 0, 0, 0, 0, 0, 0, 0, 0, 0, 0, 0, 0, 0, 0, 0, 0, 0, 0, 0, 0, 0, 0, 0, 0, 0, 0, 0, 0, 0, 0, 0, 0, 0, 0, 0, 0, 0, 0, 0, 0, 0, 0, 0, 0, 0, 0, 0, 0, 0, 0, 0, 0, 0, 0, 0, 0, 0, 0, 0, 0, 0, 0, 0, 0, 0, 0, 0, 0, 0, 0, 0, 0, 0, 0, 0, 0, 0, 0, 0, 0, 0, 0, 0, 0, 0, 0, 0, 0, 0, 0, 0, 0, 0, 0, 0, 0, 0, 0, 0, 0, 0, 0, 0, 0, 0, 0, 0, 0, 0, 0, 0, 0, 0, 0, 0, 0, 0, 0, 0, 0, 0, 0, 0, 0, 0, 0, 0, 0, 0, 0, 0, 0, 0, 0, 0, 0, 0, 0, 0, 0, 0, 0, 0, 0, 0, 0, 0]\n",
      "NDCG metric: 0.21043817599412445\n"
     ]
    }
   ],
   "source": [
    "# Computing the r-precision\n",
    "test_idx = 0\n",
    "\n",
    "## R-Precision\n",
    "print \"R-Precision is\", len(X_train[test_idx]), len(list(set(prediction_matrix[0]) & set(X_train[test_idx])))/float(len(X_train[test_idx]))\n",
    "\n",
    "\n",
    "## NDCG computation\n",
    "ndcg_arr = [(len(X_train[test_idx]) - X_train[test_idx].index(x)) if x in X_train[test_idx] else 0 for x in prediction_matrix[0]]\n",
    "print \"NDCG metric:\", ndcg_at_k(ndcg_arr, len(ndcg_arr))\n",
    "print ndcg_arr + (500-len(ndcg_arr))*[0]\n",
    "print \"NDCG metric:\", ndcg_at_k(ndcg_arr, len(ndcg_arr))"
   ]
  },
  {
   "cell_type": "markdown",
   "metadata": {},
   "source": [
    "## Graphs of loss function vs epochs"
   ]
  },
  {
   "cell_type": "code",
   "execution_count": 56,
   "metadata": {},
   "outputs": [
    {
     "name": "stdout",
     "output_type": "stream",
     "text": [
      "loss 3.4077 after 1600 examples (batch_size=1)\n"
     ]
    },
    {
     "data": {
      "image/png": "[encoded data removed]",
      "text/plain": [
       "<matplotlib.figure.Figure at 0x7fdbe1872950>"
      ]
     },
     "metadata": {},
     "output_type": "display_data"
    }
   ],
   "source": [
    "%matplotlib inline\n",
    "import matplotlib.pyplot as plt\n",
    "plt.plot(loss_track)\n",
    "print('loss {:.4f} after {} examples (batch_size={})'.format(loss_track[-1], len(loss_track)*batch_size, batch_size))"
   ]
  }
 ],
 "metadata": {
  "kernelspec": {
   "display_name": "Python 2",
   "language": "python",
   "name": "python2"
  },
  "language_info": {
   "codemirror_mode": {
    "name": "ipython",
    "version": 2
   },
   "file_extension": ".py",
   "mimetype": "text/x-python",
   "name": "python",
   "nbconvert_exporter": "python",
   "pygments_lexer": "ipython2",
   "version": "2.7.14"
  }
 },
 "nbformat": 4,
 "nbformat_minor": 2
}
